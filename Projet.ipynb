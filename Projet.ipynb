{
 "cells": [
  {
   "cell_type": "markdown",
   "metadata": {},
   "source": [
    "<table>\n",
    "<tr>\n",
    "    <td width=10%><img src=\"./img/logo_lri.jpg\"></td>\n",
    "    <td width=30%><img src=\"./img/medi-chal_logo.png\" height=15%></img></td>\n",
    "</tr>\n",
    "\n",
    "</table>"
   ]
  },
  {
   "cell_type": "markdown",
   "metadata": {},
   "source": [
    "<br/><br/><div id=\"top\"></div>\n",
    "\n",
    "<center><a style=\"font-size: 40pt; font-weight: bold\">\n",
    "    Être ou ne pas être ?\n",
    "</a></center>\n",
    "<br/>\n",
    "<center><a style=\"font-size: 22pt; font-weight: bold\">\n",
    "    Un problème de classification binaire sur des données médicales artificelles\n",
    "<br/>\n",
    "\n",
    "---"
   ]
  },
  {
   "cell_type": "markdown",
   "metadata": {},
   "source": [
    "# Membres du groupe\n",
    "\n",
    "**Minimum 2, Maximum 3**"
   ]
  },
  {
   "cell_type": "markdown",
   "metadata": {},
   "source": [
    "<span style=\"color:red\">\n",
    "    Répondre ci-dessous\n",
    "</span>"
   ]
  },
  {
   "attachments": {},
   "cell_type": "markdown",
   "metadata": {},
   "source": [
    "* ANDRIAMBOAVONJY Jordy\n",
    "* ATMANE Ahmed\n",
    "* GOMES DA ROSA Aymeric"
   ]
  },
  {
   "cell_type": "markdown",
   "metadata": {},
   "source": [
    "# Présentation du challenge\n",
    "\n",
    "## La question principale de ce challenge est : \n",
    "\n",
    "* Comment prédire la survie d'un·e patient·e compte tenu de son dossier médical ? \n",
    "    \n",
    "* Plus précisément, vous devrez prédire la survie des patient·e·s pendant leur séjour à l'hôpital\n",
    " \n",
    "Chaque jour, le personnel soignant collecte de nombreuses informations sur les patient·e·s en posant des questions et en utilisant des outils de mesure (stéthoscope, analyse de sang, capteurs, etc.). Ces données sont très utiles pour surveiller l'état de santé, diagnostiquer et choisir les traitements.\n",
    "\n",
    "Elles peuvent également être utilisées pour l'analyse statistique prédictive."
   ]
  },
  {
   "cell_type": "markdown",
   "metadata": {},
   "source": [
    "## Données\n",
    "\n",
    "L'ensemble de données contient des informations sur 80'000 patient·e·s, représentés par des variables (descripteurs) catégorielles, binaires et numériques. Ces variables sont, par exemple, l'âge, le sexe, l'origine ethnique, l'état matrimonial, ainsi que des données médicales telles que la tension artérielle ou le taux de glucose. Il y a un total de 342 variables.\n",
    "\n",
    "La classe (étiquette ou label) à prédire est une variable binaire indiquant si la·le patient·e est décédé·e ou non pendant son séjour à l'hôpital. Heureusement, la plupart survivent :\n",
    "\n",
    "![](img/tobe.png)"
   ]
  },
  {
   "cell_type": "markdown",
   "metadata": {},
   "source": [
    "## Tâche\n",
    "\n",
    "La tâche consiste à créer un modèle capable d'apprendre à partir des données et de faire des prédictions (apprentissage supervisé). Chaque instance (patient·e) possède une variable indiquant si elle·il est décédé·e ou non pendant son séjour à l'hôpital.\n",
    "\n",
    "Références et crédit :\n",
    "\n",
    "Isabelle Guyon, Kristin Bennett, Andrew Yale, Adrien Pavao, Thomas Gerspacher"
   ]
  },
  {
   "attachments": {},
   "cell_type": "markdown",
   "metadata": {},
   "source": [
    "## Instructions\n",
    "\n",
    "Le but de ce TP est de travailler sur un challenge de prédiction de la mortalité.\n",
    "\n",
    "Le lien vers le challenge :\n",
    "https://codalab.lisn.upsaclay.fr/competitions/12130\n",
    "\n",
    "* **Étape 1 :** S'enregistrer sur https://codalab.lisn.upsaclay.fr\n",
    "\n",
    "* **Étape 2:** Téléchargez le jeu de données à partir de la [page](https://codalab.lisn.upsaclay.fr/competitions/12130#participate-get_starting_kit) \"Participate > Files > Public Data\".\n",
    "\n",
    "* **Étape 3:** Parcourez ce notebook. Vous devrez lire, exécuter, **coder vos propres méthodes** et **répondre aux questions**. Utilisez la cellule ***code*** pour le codage et la cellule ***markdown*** pour répondre aux questions."
   ]
  },
  {
   "cell_type": "markdown",
   "metadata": {},
   "source": [
    "## Évaluation du projet\n",
    "\n",
    "* **4 points** pour la partie compréhension et analyse exploratoire\n",
    "    \n",
    "* **4 points** pour un code propre et bien documenté\n",
    "\n",
    "* **4 points** pour la qualité du modèle (sélection du modèle, sélection des hyperparamètres)\n",
    "\n",
    "* **4 points** pour une bonne évaluation des performances du modèle\n",
    "\n",
    "* **4 points** pour la qualité de la présentation orale \n",
    "\n",
    "* **1 point bonus** pour l'équipe gagnante du challenge"
   ]
  },
  {
   "cell_type": "markdown",
   "metadata": {},
   "source": [
    "### FAQ\n",
    "\n",
    "* Soumettre uniquement le notebook sur eCampus\n",
    "\n",
    "* La partie texte (explications, résultats, problèmes, sans le code) ne doit pas dépasser 3 pages A4 11pt (< 1500 mots)"
   ]
  },
  {
   "cell_type": "markdown",
   "metadata": {},
   "source": [
    "# Challenge"
   ]
  },
  {
   "cell_type": "markdown",
   "metadata": {},
   "source": [
    "Module requis : `imblearn` (à installer avec `conda`)\n",
    "\n",
    "`conda install -c conda-forge imbalanced-learn`"
   ]
  },
  {
   "cell_type": "code",
   "execution_count": 1,
   "metadata": {},
   "outputs": [],
   "source": [
    "import platform\n",
    "from datetime import datetime\n",
    "from pathlib import Path\n",
    "\n",
    "import imblearn\n",
    "import matplotlib.pyplot as plt\n",
    "import numpy as np\n",
    "import pandas as pd\n",
    "import seaborn as sns\n",
    "import sklearn\n",
    "from sklearn import (\n",
    "    decomposition,\n",
    "    discriminant_analysis,\n",
    "    ensemble,\n",
    "    linear_model,\n",
    "    metrics,\n",
    "    model_selection,\n",
    "    naive_bayes,\n",
    "    pipeline,\n",
    "    preprocessing,\n",
    "    svm,\n",
    ")"
   ]
  },
  {
   "cell_type": "code",
   "execution_count": 2,
   "metadata": {},
   "outputs": [
    {
     "name": "stdout",
     "output_type": "stream",
     "text": [
      "1.5.3\n",
      "1.2.2\n"
     ]
    }
   ],
   "source": [
    "if platform.system() == \"Darwin\":\n",
    "    %config InlineBackend.figure_format=\"retina\"  # For high DPI display\n",
    "\n",
    "# Set precision for pd and np (np: suppress also sci notation)\n",
    "np.set_printoptions(precision=3, suppress=True)\n",
    "pd.options.display.float_format = \"{:,.3g}\".format\n",
    "\n",
    "sns.set_style(\"darkgrid\")\n",
    "sns.set_context(\"notebook\")\n",
    "\n",
    "print(pd.__version__)       # 2.0.0\n",
    "print(sklearn.__version__)  # 1.2.2"
   ]
  },
  {
   "cell_type": "markdown",
   "metadata": {},
   "source": [
    "## 1. Compréhension du problème"
   ]
  },
  {
   "cell_type": "markdown",
   "metadata": {},
   "source": [
    "### Expliquez brièvement la tâche avec vos mots"
   ]
  },
  {
   "cell_type": "markdown",
   "metadata": {},
   "source": [
    "<span style=\"color:red\">\n",
    "    Répondre ci-dessous\n",
    "</span>"
   ]
  },
  {
   "attachments": {},
   "cell_type": "markdown",
   "metadata": {},
   "source": [
    "L'objectif du projet est de faire un modèle d'apprentissage sur les données qui sont les dossiers médicaux de patients et à partir de cela faire des prédictions sur leurs survies ou non lors de leurs séjours à l'hopital"
   ]
  },
  {
   "cell_type": "markdown",
   "metadata": {},
   "source": [
    "### Métrique utilisée\n",
    "\n",
    "Pourquoi la métrique utilisée ici est la [`sklearn.metrics.balanced_accuracy_score`](https://scikit-learn.org/stable/modules/generated/sklearn.metrics.balanced_accuracy_score.html) plutôt que simplement l'[`sklearn.metrics.accuracy_score`](https://scikit-learn.org/stable/modules/generated/sklearn.metrics.accuracy_score.html) ?"
   ]
  },
  {
   "cell_type": "markdown",
   "metadata": {},
   "source": [
    "<span style=\"color:red\">\n",
    "    Répondre ci-dessous\n",
    "</span>"
   ]
  },
  {
   "attachments": {},
   "cell_type": "markdown",
   "metadata": {},
   "source": [
    "On utilise ici cette métrique car on obtient avec des données équitables même ici avec des classes déséquilibrées"
   ]
  },
  {
   "cell_type": "markdown",
   "metadata": {},
   "source": [
    "## 2. Chargement des données"
   ]
  },
  {
   "cell_type": "code",
   "execution_count": 3,
   "metadata": {},
   "outputs": [],
   "source": [
    "DATA = Path(\"public_data\")\n",
    "\n",
    "PRED_PATH = Path(\"Submissions\")\n",
    "\n",
    "DROP_VARS = [\"ADMITTIME\", \"DISCHTIME\", \"SUBJECT_ID\", \"HADM_ID\"]\n",
    "\n",
    "assert DATA.is_dir()"
   ]
  },
  {
   "cell_type": "code",
   "execution_count": 4,
   "metadata": {},
   "outputs": [],
   "source": [
    "features = pd.read_csv(\n",
    "    DATA / \"mimic_synthetic_feat.name\", header=None\n",
    ").values.flatten()\n",
    "\n",
    "labels = pd.read_csv(\n",
    "    DATA / \"mimic_synthetic_label.name\", header=None\n",
    ").values.flatten()\n",
    "\n",
    "x_df = pd.read_csv(\n",
    "    DATA / \"mimic_synthetic_train.data\",\n",
    "    header=None,\n",
    "    names=features,\n",
    "    sep=\" \",\n",
    ")\n",
    "\n",
    "# Remove variables that are not relevant\n",
    "x_df.drop(columns=DROP_VARS, inplace=True)\n",
    "\n",
    "ys = pd.Series(\n",
    "    pd.read_csv(\n",
    "        DATA / \"mimic_synthetic_train.solution\",\n",
    "        header=None,\n",
    "        names=labels,\n",
    "        sep=\" \",\n",
    "    ).values.flatten()\n",
    ")"
   ]
  },
  {
   "cell_type": "code",
   "execution_count": 5,
   "metadata": {},
   "outputs": [
    {
     "name": "stdout",
     "output_type": "stream",
     "text": [
      "(79999, 337)\n"
     ]
    },
    {
     "data": {
      "text/html": [
       "<div>\n",
       "<style scoped>\n",
       "    .dataframe tbody tr th:only-of-type {\n",
       "        vertical-align: middle;\n",
       "    }\n",
       "\n",
       "    .dataframe tbody tr th {\n",
       "        vertical-align: top;\n",
       "    }\n",
       "\n",
       "    .dataframe thead th {\n",
       "        text-align: right;\n",
       "    }\n",
       "</style>\n",
       "<table border=\"1\" class=\"dataframe\">\n",
       "  <thead>\n",
       "    <tr style=\"text-align: right;\">\n",
       "      <th></th>\n",
       "      <th>INSURANCE</th>\n",
       "      <th>LANGUAGE</th>\n",
       "      <th>RELIGION</th>\n",
       "      <th>MARITAL_STATUS</th>\n",
       "      <th>ETHNICITY</th>\n",
       "      <th>GENDER</th>\n",
       "      <th>AGE</th>\n",
       "      <th>HR_MIN_DAY1</th>\n",
       "      <th>HR_MAX_DAY1</th>\n",
       "      <th>HR_MEAN_DAY1</th>\n",
       "      <th>...</th>\n",
       "      <th>Eyeinfectn</th>\n",
       "      <th>Othereyedx</th>\n",
       "      <th>Otitismedia</th>\n",
       "      <th>Dizziness</th>\n",
       "      <th>Othereardx</th>\n",
       "      <th>Othnervdx</th>\n",
       "      <th>Hrtvalvedx</th>\n",
       "      <th>Carditis</th>\n",
       "      <th>HTN</th>\n",
       "      <th>Htncomplicn</th>\n",
       "    </tr>\n",
       "  </thead>\n",
       "  <tbody>\n",
       "    <tr>\n",
       "      <th>0</th>\n",
       "      <td>Private</td>\n",
       "      <td>ENGL</td>\n",
       "      <td>CATHOLIC</td>\n",
       "      <td>DIVORCED</td>\n",
       "      <td>WHITE</td>\n",
       "      <td>F</td>\n",
       "      <td>21</td>\n",
       "      <td>57.2</td>\n",
       "      <td>109</td>\n",
       "      <td>70.8</td>\n",
       "      <td>...</td>\n",
       "      <td>0</td>\n",
       "      <td>0</td>\n",
       "      <td>0</td>\n",
       "      <td>0</td>\n",
       "      <td>0</td>\n",
       "      <td>0</td>\n",
       "      <td>0</td>\n",
       "      <td>0</td>\n",
       "      <td>0</td>\n",
       "      <td>0</td>\n",
       "    </tr>\n",
       "    <tr>\n",
       "      <th>1</th>\n",
       "      <td>Private</td>\n",
       "      <td>ENGL</td>\n",
       "      <td>UNOBTAINABLE</td>\n",
       "      <td>SINGLE</td>\n",
       "      <td>WHITE</td>\n",
       "      <td>M</td>\n",
       "      <td>39</td>\n",
       "      <td>79.3</td>\n",
       "      <td>121</td>\n",
       "      <td>96.9</td>\n",
       "      <td>...</td>\n",
       "      <td>0</td>\n",
       "      <td>0</td>\n",
       "      <td>0</td>\n",
       "      <td>0</td>\n",
       "      <td>0</td>\n",
       "      <td>0</td>\n",
       "      <td>0</td>\n",
       "      <td>0</td>\n",
       "      <td>0</td>\n",
       "      <td>1</td>\n",
       "    </tr>\n",
       "    <tr>\n",
       "      <th>2</th>\n",
       "      <td>Medicaid</td>\n",
       "      <td>SPAN</td>\n",
       "      <td>CATHOLIC</td>\n",
       "      <td>WIDOWED</td>\n",
       "      <td>OTHER</td>\n",
       "      <td>M</td>\n",
       "      <td>40</td>\n",
       "      <td>118</td>\n",
       "      <td>175</td>\n",
       "      <td>141</td>\n",
       "      <td>...</td>\n",
       "      <td>0</td>\n",
       "      <td>0</td>\n",
       "      <td>0</td>\n",
       "      <td>0</td>\n",
       "      <td>0</td>\n",
       "      <td>0</td>\n",
       "      <td>0</td>\n",
       "      <td>0</td>\n",
       "      <td>0</td>\n",
       "      <td>0</td>\n",
       "    </tr>\n",
       "  </tbody>\n",
       "</table>\n",
       "<p>3 rows × 337 columns</p>\n",
       "</div>"
      ],
      "text/plain": [
       "  INSURANCE LANGUAGE      RELIGION MARITAL_STATUS ETHNICITY GENDER  AGE  \\\n",
       "0   Private     ENGL      CATHOLIC       DIVORCED     WHITE      F   21   \n",
       "1   Private     ENGL  UNOBTAINABLE         SINGLE     WHITE      M   39   \n",
       "2  Medicaid     SPAN      CATHOLIC        WIDOWED     OTHER      M   40   \n",
       "\n",
       "   HR_MIN_DAY1  HR_MAX_DAY1  HR_MEAN_DAY1  ...  Eyeinfectn  Othereyedx  \\\n",
       "0         57.2          109          70.8  ...           0           0   \n",
       "1         79.3          121          96.9  ...           0           0   \n",
       "2          118          175           141  ...           0           0   \n",
       "\n",
       "   Otitismedia  Dizziness  Othereardx  Othnervdx  Hrtvalvedx  Carditis  HTN  \\\n",
       "0            0          0           0          0           0         0    0   \n",
       "1            0          0           0          0           0         0    0   \n",
       "2            0          0           0          0           0         0    0   \n",
       "\n",
       "   Htncomplicn  \n",
       "0            0  \n",
       "1            1  \n",
       "2            0  \n",
       "\n",
       "[3 rows x 337 columns]"
      ]
     },
     "execution_count": 5,
     "metadata": {},
     "output_type": "execute_result"
    }
   ],
   "source": [
    "print(x_df.shape)\n",
    "x_df.head(3)"
   ]
  },
  {
   "cell_type": "markdown",
   "metadata": {},
   "source": [
    "C'est **l'ensemble d'entrainement**. Cela signifie que vous avez accès aux étiquettes et que vous pouvez l'utiliser comme vous le souhaitez pour préparer votre modèle.\n",
    "\n",
    "Plus tard, vous ferez en sorte que votre modèle tire des prédictions de **l'ensemble de test** afin de les téléverser sur Codalab et d'obtenir un score sur des données non vues lors de l'entrainement des modèles."
   ]
  },
  {
   "cell_type": "code",
   "execution_count": 6,
   "metadata": {},
   "outputs": [
    {
     "name": "stdout",
     "output_type": "stream",
     "text": [
      "(20001, 337)\n"
     ]
    },
    {
     "data": {
      "text/html": [
       "<div>\n",
       "<style scoped>\n",
       "    .dataframe tbody tr th:only-of-type {\n",
       "        vertical-align: middle;\n",
       "    }\n",
       "\n",
       "    .dataframe tbody tr th {\n",
       "        vertical-align: top;\n",
       "    }\n",
       "\n",
       "    .dataframe thead th {\n",
       "        text-align: right;\n",
       "    }\n",
       "</style>\n",
       "<table border=\"1\" class=\"dataframe\">\n",
       "  <thead>\n",
       "    <tr style=\"text-align: right;\">\n",
       "      <th></th>\n",
       "      <th>INSURANCE</th>\n",
       "      <th>LANGUAGE</th>\n",
       "      <th>RELIGION</th>\n",
       "      <th>MARITAL_STATUS</th>\n",
       "      <th>ETHNICITY</th>\n",
       "      <th>GENDER</th>\n",
       "      <th>AGE</th>\n",
       "      <th>HR_MIN_DAY1</th>\n",
       "      <th>HR_MAX_DAY1</th>\n",
       "      <th>HR_MEAN_DAY1</th>\n",
       "      <th>...</th>\n",
       "      <th>Eyeinfectn</th>\n",
       "      <th>Othereyedx</th>\n",
       "      <th>Otitismedia</th>\n",
       "      <th>Dizziness</th>\n",
       "      <th>Othereardx</th>\n",
       "      <th>Othnervdx</th>\n",
       "      <th>Hrtvalvedx</th>\n",
       "      <th>Carditis</th>\n",
       "      <th>HTN</th>\n",
       "      <th>Htncomplicn</th>\n",
       "    </tr>\n",
       "  </thead>\n",
       "  <tbody>\n",
       "    <tr>\n",
       "      <th>0</th>\n",
       "      <td>Self_Pay</td>\n",
       "      <td>ENGL</td>\n",
       "      <td>OTHER</td>\n",
       "      <td>MARRIED</td>\n",
       "      <td>WHITE</td>\n",
       "      <td>F</td>\n",
       "      <td>18</td>\n",
       "      <td>72.6</td>\n",
       "      <td>113</td>\n",
       "      <td>96.5</td>\n",
       "      <td>...</td>\n",
       "      <td>0</td>\n",
       "      <td>0</td>\n",
       "      <td>0</td>\n",
       "      <td>0</td>\n",
       "      <td>0</td>\n",
       "      <td>0</td>\n",
       "      <td>0</td>\n",
       "      <td>0</td>\n",
       "      <td>0</td>\n",
       "      <td>0</td>\n",
       "    </tr>\n",
       "    <tr>\n",
       "      <th>1</th>\n",
       "      <td>Medicare</td>\n",
       "      <td>ENGL</td>\n",
       "      <td>NOT_SPECIFIED</td>\n",
       "      <td>SINGLE</td>\n",
       "      <td>BLACK/AFRICAN_AMERICAN</td>\n",
       "      <td>F</td>\n",
       "      <td>56</td>\n",
       "      <td>66.6</td>\n",
       "      <td>107</td>\n",
       "      <td>83.8</td>\n",
       "      <td>...</td>\n",
       "      <td>0</td>\n",
       "      <td>0</td>\n",
       "      <td>0</td>\n",
       "      <td>0</td>\n",
       "      <td>0</td>\n",
       "      <td>0</td>\n",
       "      <td>0</td>\n",
       "      <td>0</td>\n",
       "      <td>1</td>\n",
       "      <td>0</td>\n",
       "    </tr>\n",
       "    <tr>\n",
       "      <th>2</th>\n",
       "      <td>Medicaid</td>\n",
       "      <td>ENGL</td>\n",
       "      <td>CATHOLIC</td>\n",
       "      <td>SINGLE</td>\n",
       "      <td>WHITE</td>\n",
       "      <td>M</td>\n",
       "      <td>32</td>\n",
       "      <td>69.7</td>\n",
       "      <td>103</td>\n",
       "      <td>87.3</td>\n",
       "      <td>...</td>\n",
       "      <td>0</td>\n",
       "      <td>0</td>\n",
       "      <td>0</td>\n",
       "      <td>0</td>\n",
       "      <td>0</td>\n",
       "      <td>0</td>\n",
       "      <td>0</td>\n",
       "      <td>0</td>\n",
       "      <td>0</td>\n",
       "      <td>0</td>\n",
       "    </tr>\n",
       "  </tbody>\n",
       "</table>\n",
       "<p>3 rows × 337 columns</p>\n",
       "</div>"
      ],
      "text/plain": [
       "  INSURANCE LANGUAGE       RELIGION MARITAL_STATUS               ETHNICITY  \\\n",
       "0  Self_Pay     ENGL          OTHER        MARRIED                   WHITE   \n",
       "1  Medicare     ENGL  NOT_SPECIFIED         SINGLE  BLACK/AFRICAN_AMERICAN   \n",
       "2  Medicaid     ENGL       CATHOLIC         SINGLE                   WHITE   \n",
       "\n",
       "  GENDER  AGE  HR_MIN_DAY1  HR_MAX_DAY1  HR_MEAN_DAY1  ...  Eyeinfectn  \\\n",
       "0      F   18         72.6          113          96.5  ...           0   \n",
       "1      F   56         66.6          107          83.8  ...           0   \n",
       "2      M   32         69.7          103          87.3  ...           0   \n",
       "\n",
       "   Othereyedx  Otitismedia  Dizziness  Othereardx  Othnervdx  Hrtvalvedx  \\\n",
       "0           0            0          0           0          0           0   \n",
       "1           0            0          0           0          0           0   \n",
       "2           0            0          0           0          0           0   \n",
       "\n",
       "   Carditis  HTN  Htncomplicn  \n",
       "0         0    0            0  \n",
       "1         0    1            0  \n",
       "2         0    0            0  \n",
       "\n",
       "[3 rows x 337 columns]"
      ]
     },
     "execution_count": 6,
     "metadata": {},
     "output_type": "execute_result"
    }
   ],
   "source": [
    "# Load test set\n",
    "x_test_df = pd.read_csv(\n",
    "    DATA / \"mimic_synthetic_test.data\",\n",
    "    header=None,\n",
    "    names=features,\n",
    "    sep=\" \",\n",
    ")\n",
    "\n",
    "# Remove variables that are not relevant\n",
    "x_test_df.drop(columns=DROP_VARS, inplace=True)\n",
    "\n",
    "print(x_test_df.shape)\n",
    "x_test_df.head(3)"
   ]
  },
  {
   "cell_type": "markdown",
   "metadata": {},
   "source": [
    "## 3. Analyse exploratoire"
   ]
  },
  {
   "cell_type": "markdown",
   "metadata": {},
   "source": [
    "#### Types des variables"
   ]
  },
  {
   "cell_type": "code",
   "execution_count": 7,
   "metadata": {},
   "outputs": [
    {
     "data": {
      "text/plain": [
       "Numerical      226\n",
       "Binary         107\n",
       "Categorical      8\n",
       "Name: 0, dtype: int64"
      ]
     },
     "execution_count": 7,
     "metadata": {},
     "output_type": "execute_result"
    }
   ],
   "source": [
    "types = pd.read_csv(DATA / \"mimic_synthetic_feat.type\", header=None).set_index(\n",
    "    features\n",
    ")[0]\n",
    "\n",
    "types.value_counts()"
   ]
  },
  {
   "cell_type": "markdown",
   "metadata": {},
   "source": [
    "#### Distribution de la variable cible"
   ]
  },
  {
   "cell_type": "code",
   "execution_count": 8,
   "metadata": {},
   "outputs": [
    {
     "data": {
      "text/plain": [
       "count   8e+04\n",
       "mean    0.035\n",
       "std     0.184\n",
       "min         0\n",
       "25%         0\n",
       "50%         0\n",
       "75%         0\n",
       "max         1\n",
       "dtype: float64"
      ]
     },
     "execution_count": 8,
     "metadata": {},
     "output_type": "execute_result"
    }
   ],
   "source": [
    "ys.describe()"
   ]
  },
  {
   "cell_type": "code",
   "execution_count": 9,
   "metadata": {},
   "outputs": [
    {
     "data": {
      "image/png": "[encoded data removed]",
      "text/plain": [
       "<Figure size 640x480 with 1 Axes>"
      ]
     },
     "metadata": {},
     "output_type": "display_data"
    }
   ],
   "source": [
    "ys.hist(bins=2, grid=False, align=\"left\")\n",
    "plt.xticks([0, 0.5], [\"Survived\", \"Died\"])\n",
    "# plt.savefig(\"img/tobe.png\", dpi=300)\n",
    "plt.show()"
   ]
  },
  {
   "cell_type": "markdown",
   "metadata": {},
   "source": [
    "### Code : Produire les graphiques suivants\n",
    "\n",
    "* Diagrammes à barres de certaines variables catégorielles (par exemple \"LANGUAGE\", \"MARITAL_STATUS\")\n",
    "\n",
    "* Montrez la corrélation entre certaines variables et la variable cible y\n",
    "\n",
    "* Un autre graphique ou toute analyse exploratoire à laquelle vous pouvez penser"
   ]
  },
  {
   "cell_type": "markdown",
   "metadata": {},
   "source": [
    "Exemple"
   ]
  },
  {
   "cell_type": "code",
   "execution_count": 10,
   "metadata": {},
   "outputs": [
    {
     "data": {
      "image/png": "[encoded data removed]",
      "text/plain": [
       "<Figure size 640x480 with 1 Axes>"
      ]
     },
     "metadata": {},
     "output_type": "display_data"
    }
   ],
   "source": [
    "x_marital_cnts = x_df[\"MARITAL_STATUS\"].value_counts()\n",
    "x_marital_cnts.plot.bar(rot=30)\n",
    "plt.show()"
   ]
  },
  {
   "cell_type": "markdown",
   "metadata": {},
   "source": [
    "<span style=\"color:red\">\n",
    "    Répondre ci-dessous\n",
    "</span>"
   ]
  },
  {
   "cell_type": "code",
   "execution_count": 11,
   "metadata": {},
   "outputs": [
    {
     "data": {
      "image/png": "[encoded data removed]",
      "text/plain": [
       "<Figure size 640x480 with 1 Axes>"
      ]
     },
     "metadata": {},
     "output_type": "display_data"
    }
   ],
   "source": [
    "# TODO: Bar plot of another variable\n",
    "x_religion_cnts = x_df[\"RELIGION\"].value_counts()\n",
    "x_religion_cnts.plot.bar(rot=30)\n",
    "plt.show()"
   ]
  },
  {
   "cell_type": "markdown",
   "metadata": {},
   "source": [
    "#### Corrélations"
   ]
  },
  {
   "cell_type": "code",
   "execution_count": 12,
   "metadata": {},
   "outputs": [
    {
     "data": {
      "text/html": [
       "<style type=\"text/css\">\n",
       "#T_83746_row0_col0, #T_83746_row1_col1, #T_83746_row2_col2, #T_83746_row3_col3, #T_83746_row4_col4, #T_83746_row5_col5 {\n",
       "  background-color: #276419;\n",
       "  color: #f1f1f1;\n",
       "}\n",
       "#T_83746_row0_col1, #T_83746_row1_col0 {\n",
       "  background-color: #fce5f1;\n",
       "  color: #000000;\n",
       "}\n",
       "#T_83746_row0_col2, #T_83746_row2_col0 {\n",
       "  background-color: #f5f7f2;\n",
       "  color: #000000;\n",
       "}\n",
       "#T_83746_row0_col3, #T_83746_row3_col0 {\n",
       "  background-color: #f1f6e8;\n",
       "  color: #000000;\n",
       "}\n",
       "#T_83746_row0_col4, #T_83746_row3_col4, #T_83746_row4_col0, #T_83746_row4_col3, #T_83746_row4_col5, #T_83746_row5_col4 {\n",
       "  background-color: #f7f7f7;\n",
       "  color: #000000;\n",
       "}\n",
       "#T_83746_row0_col5, #T_83746_row5_col0 {\n",
       "  background-color: #f5f7f3;\n",
       "  color: #000000;\n",
       "}\n",
       "#T_83746_row1_col2, #T_83746_row2_col1 {\n",
       "  background-color: #f9f1f5;\n",
       "  color: #000000;\n",
       "}\n",
       "#T_83746_row1_col3, #T_83746_row3_col1 {\n",
       "  background-color: #ebf6dc;\n",
       "  color: #000000;\n",
       "}\n",
       "#T_83746_row1_col4, #T_83746_row2_col4, #T_83746_row4_col1, #T_83746_row4_col2 {\n",
       "  background-color: #f7f7f6;\n",
       "  color: #000000;\n",
       "}\n",
       "#T_83746_row1_col5, #T_83746_row5_col1 {\n",
       "  background-color: #f1f6ea;\n",
       "  color: #000000;\n",
       "}\n",
       "#T_83746_row2_col3, #T_83746_row3_col2 {\n",
       "  background-color: #ebf6db;\n",
       "  color: #000000;\n",
       "}\n",
       "#T_83746_row2_col5, #T_83746_row5_col2 {\n",
       "  background-color: #f3f7ef;\n",
       "  color: #000000;\n",
       "}\n",
       "#T_83746_row3_col5, #T_83746_row5_col3 {\n",
       "  background-color: #f6f7f5;\n",
       "  color: #000000;\n",
       "}\n",
       "</style>\n",
       "<table id=\"T_83746\">\n",
       "  <thead>\n",
       "    <tr>\n",
       "      <th class=\"blank level0\" >&nbsp;</th>\n",
       "      <th id=\"T_83746_level0_col0\" class=\"col_heading level0 col0\" >AGE</th>\n",
       "      <th id=\"T_83746_level0_col1\" class=\"col_heading level0 col1\" >HR_MEAN_DAY1</th>\n",
       "      <th id=\"T_83746_level0_col2\" class=\"col_heading level0 col2\" >SYS_BP_MAX_DAY1</th>\n",
       "      <th id=\"T_83746_level0_col3\" class=\"col_heading level0 col3\" >GLUCOSE_MAX_DAY1</th>\n",
       "      <th id=\"T_83746_level0_col4\" class=\"col_heading level0 col4\" >Cardiacanom</th>\n",
       "      <th id=\"T_83746_level0_col5\" class=\"col_heading level0 col5\" >Target</th>\n",
       "    </tr>\n",
       "  </thead>\n",
       "  <tbody>\n",
       "    <tr>\n",
       "      <th id=\"T_83746_level0_row0\" class=\"row_heading level0 row0\" >AGE</th>\n",
       "      <td id=\"T_83746_row0_col0\" class=\"data row0 col0\" >1</td>\n",
       "      <td id=\"T_83746_row0_col1\" class=\"data row0 col1\" >-0.15</td>\n",
       "      <td id=\"T_83746_row0_col2\" class=\"data row0 col2\" >0.025</td>\n",
       "      <td id=\"T_83746_row0_col3\" class=\"data row0 col3\" >0.071</td>\n",
       "      <td id=\"T_83746_row0_col4\" class=\"data row0 col4\" >-0.00073</td>\n",
       "      <td id=\"T_83746_row0_col5\" class=\"data row0 col5\" >0.019</td>\n",
       "    </tr>\n",
       "    <tr>\n",
       "      <th id=\"T_83746_level0_row1\" class=\"row_heading level0 row1\" >HR_MEAN_DAY1</th>\n",
       "      <td id=\"T_83746_row1_col0\" class=\"data row1 col0\" >-0.15</td>\n",
       "      <td id=\"T_83746_row1_col1\" class=\"data row1 col1\" >1</td>\n",
       "      <td id=\"T_83746_row1_col2\" class=\"data row1 col2\" >-0.049</td>\n",
       "      <td id=\"T_83746_row1_col3\" class=\"data row1 col3\" >0.14</td>\n",
       "      <td id=\"T_83746_row1_col4\" class=\"data row1 col4\" >0.0035</td>\n",
       "      <td id=\"T_83746_row1_col5\" class=\"data row1 col5\" >0.063</td>\n",
       "    </tr>\n",
       "    <tr>\n",
       "      <th id=\"T_83746_level0_row2\" class=\"row_heading level0 row2\" >SYS_BP_MAX_DAY1</th>\n",
       "      <td id=\"T_83746_row2_col0\" class=\"data row2 col0\" >0.025</td>\n",
       "      <td id=\"T_83746_row2_col1\" class=\"data row2 col1\" >-0.049</td>\n",
       "      <td id=\"T_83746_row2_col2\" class=\"data row2 col2\" >1</td>\n",
       "      <td id=\"T_83746_row2_col3\" class=\"data row2 col3\" >0.14</td>\n",
       "      <td id=\"T_83746_row2_col4\" class=\"data row2 col4\" >0.0042</td>\n",
       "      <td id=\"T_83746_row2_col5\" class=\"data row2 col5\" >0.045</td>\n",
       "    </tr>\n",
       "    <tr>\n",
       "      <th id=\"T_83746_level0_row3\" class=\"row_heading level0 row3\" >GLUCOSE_MAX_DAY1</th>\n",
       "      <td id=\"T_83746_row3_col0\" class=\"data row3 col0\" >0.071</td>\n",
       "      <td id=\"T_83746_row3_col1\" class=\"data row3 col1\" >0.14</td>\n",
       "      <td id=\"T_83746_row3_col2\" class=\"data row3 col2\" >0.14</td>\n",
       "      <td id=\"T_83746_row3_col3\" class=\"data row3 col3\" >1</td>\n",
       "      <td id=\"T_83746_row3_col4\" class=\"data row3 col4\" >-0.004</td>\n",
       "      <td id=\"T_83746_row3_col5\" class=\"data row3 col5\" >0.014</td>\n",
       "    </tr>\n",
       "    <tr>\n",
       "      <th id=\"T_83746_level0_row4\" class=\"row_heading level0 row4\" >Cardiacanom</th>\n",
       "      <td id=\"T_83746_row4_col0\" class=\"data row4 col0\" >-0.00073</td>\n",
       "      <td id=\"T_83746_row4_col1\" class=\"data row4 col1\" >0.0035</td>\n",
       "      <td id=\"T_83746_row4_col2\" class=\"data row4 col2\" >0.0042</td>\n",
       "      <td id=\"T_83746_row4_col3\" class=\"data row4 col3\" >-0.004</td>\n",
       "      <td id=\"T_83746_row4_col4\" class=\"data row4 col4\" >1</td>\n",
       "      <td id=\"T_83746_row4_col5\" class=\"data row4 col5\" >-0.00095</td>\n",
       "    </tr>\n",
       "    <tr>\n",
       "      <th id=\"T_83746_level0_row5\" class=\"row_heading level0 row5\" >Target</th>\n",
       "      <td id=\"T_83746_row5_col0\" class=\"data row5 col0\" >0.019</td>\n",
       "      <td id=\"T_83746_row5_col1\" class=\"data row5 col1\" >0.063</td>\n",
       "      <td id=\"T_83746_row5_col2\" class=\"data row5 col2\" >0.045</td>\n",
       "      <td id=\"T_83746_row5_col3\" class=\"data row5 col3\" >0.014</td>\n",
       "      <td id=\"T_83746_row5_col4\" class=\"data row5 col4\" >-0.00095</td>\n",
       "      <td id=\"T_83746_row5_col5\" class=\"data row5 col5\" >1</td>\n",
       "    </tr>\n",
       "  </tbody>\n",
       "</table>\n"
      ],
      "text/plain": [
       "<pandas.io.formats.style.Styler at 0x21584e4cd50>"
      ]
     },
     "execution_count": 12,
     "metadata": {},
     "output_type": "execute_result"
    }
   ],
   "source": [
    "# TODO: Bar plot of the variables most correlated with y\n",
    "cols = [\"AGE\", \"HR_MEAN_DAY1\", \"SYS_BP_MAX_DAY1\", \"GLUCOSE_MAX_DAY1\", \"Cardiacanom\"]\n",
    "corr_df = pd.DataFrame({c: x_df[c] for c in cols})\n",
    "corr_df[\"Target\"] = ys\n",
    "corr = corr_df.corr()\n",
    "corr.style.background_gradient(cmap=\"PiYG\", vmin=-1).format(\"{:.2g}\")"
   ]
  },
  {
   "cell_type": "code",
   "execution_count": 13,
   "metadata": {},
   "outputs": [
    {
     "data": {
      "text/plain": [
       "<Axes: >"
      ]
     },
     "execution_count": 13,
     "metadata": {},
     "output_type": "execute_result"
    },
    {
     "data": {
      "image/png": "[encoded data removed]",
      "text/plain": [
       "<Figure size 640x480 with 1 Axes>"
      ]
     },
     "metadata": {},
     "output_type": "display_data"
    }
   ],
   "source": [
    "corr.plot.barh()"
   ]
  },
  {
   "cell_type": "markdown",
   "metadata": {},
   "source": [
    "Astuce :\n",
    "\n",
    "* Utilisez un graphique avec des barres horizontales `barh` (pour visualiser les valeurs positives et négatives)"
   ]
  },
  {
   "cell_type": "markdown",
   "metadata": {},
   "source": [
    "<span style=\"color:red\">\n",
    "    Utiliser des cellules markdown pour ajouter des commentaires\n",
    "</span>"
   ]
  },
  {
   "attachments": {},
   "cell_type": "markdown",
   "metadata": {},
   "source": [
    "D'apres le graphe on remarque les variables les plus corrélées avec la cible sont \n",
    "* les HR moyens du day1 \n",
    "* Sys blood pressure"
   ]
  },
  {
   "cell_type": "markdown",
   "metadata": {},
   "source": [
    "#### Autres graphiques ou résultats d'une analyse exploratoire"
   ]
  },
  {
   "cell_type": "code",
   "execution_count": 14,
   "metadata": {},
   "outputs": [
    {
     "data": {
      "text/html": [
       "<style type=\"text/css\">\n",
       "#T_0105a_row0_col0, #T_0105a_row1_col1, #T_0105a_row2_col2, #T_0105a_row3_col3, #T_0105a_row4_col4 {\n",
       "  background-color: #276419;\n",
       "  color: #f1f1f1;\n",
       "}\n",
       "#T_0105a_row0_col1, #T_0105a_row1_col0 {\n",
       "  background-color: #ebf6dc;\n",
       "  color: #000000;\n",
       "}\n",
       "#T_0105a_row0_col2, #T_0105a_row2_col0 {\n",
       "  background-color: #eaf5d9;\n",
       "  color: #000000;\n",
       "}\n",
       "#T_0105a_row0_col3, #T_0105a_row3_col0 {\n",
       "  background-color: #d0ecad;\n",
       "  color: #000000;\n",
       "}\n",
       "#T_0105a_row0_col4, #T_0105a_row4_col0 {\n",
       "  background-color: #eff6e4;\n",
       "  color: #000000;\n",
       "}\n",
       "#T_0105a_row1_col2, #T_0105a_row2_col1 {\n",
       "  background-color: #f2f6ec;\n",
       "  color: #000000;\n",
       "}\n",
       "#T_0105a_row1_col3, #T_0105a_row3_col1 {\n",
       "  background-color: #e1f3c7;\n",
       "  color: #000000;\n",
       "}\n",
       "#T_0105a_row1_col4, #T_0105a_row4_col1 {\n",
       "  background-color: #f8f3f6;\n",
       "  color: #000000;\n",
       "}\n",
       "#T_0105a_row2_col3, #T_0105a_row3_col2 {\n",
       "  background-color: #d6eeb6;\n",
       "  color: #000000;\n",
       "}\n",
       "#T_0105a_row2_col4, #T_0105a_row4_col2 {\n",
       "  background-color: #f7f7f6;\n",
       "  color: #000000;\n",
       "}\n",
       "#T_0105a_row3_col4, #T_0105a_row4_col3 {\n",
       "  background-color: #f1f6ea;\n",
       "  color: #000000;\n",
       "}\n",
       "</style>\n",
       "<table id=\"T_0105a\">\n",
       "  <thead>\n",
       "    <tr>\n",
       "      <th class=\"blank level0\" >&nbsp;</th>\n",
       "      <th id=\"T_0105a_level0_col0\" class=\"col_heading level0 col0\" >RESP_RATE_MEAN_DAY1</th>\n",
       "      <th id=\"T_0105a_level0_col1\" class=\"col_heading level0 col1\" >DIAS_BP_MEAN_DAY2</th>\n",
       "      <th id=\"T_0105a_level0_col2\" class=\"col_heading level0 col2\" >TEMP_MEAN_DAY1</th>\n",
       "      <th id=\"T_0105a_level0_col3\" class=\"col_heading level0 col3\" >HR_MEAN_DAY1</th>\n",
       "      <th id=\"T_0105a_level0_col4\" class=\"col_heading level0 col4\" >Target</th>\n",
       "    </tr>\n",
       "  </thead>\n",
       "  <tbody>\n",
       "    <tr>\n",
       "      <th id=\"T_0105a_level0_row0\" class=\"row_heading level0 row0\" >RESP_RATE_MEAN_DAY1</th>\n",
       "      <td id=\"T_0105a_row0_col0\" class=\"data row0 col0\" >1</td>\n",
       "      <td id=\"T_0105a_row0_col1\" class=\"data row0 col1\" >0.14</td>\n",
       "      <td id=\"T_0105a_row0_col2\" class=\"data row0 col2\" >0.16</td>\n",
       "      <td id=\"T_0105a_row0_col3\" class=\"data row0 col3\" >0.29</td>\n",
       "      <td id=\"T_0105a_row0_col4\" class=\"data row0 col4\" >0.096</td>\n",
       "    </tr>\n",
       "    <tr>\n",
       "      <th id=\"T_0105a_level0_row1\" class=\"row_heading level0 row1\" >DIAS_BP_MEAN_DAY2</th>\n",
       "      <td id=\"T_0105a_row1_col0\" class=\"data row1 col0\" >0.14</td>\n",
       "      <td id=\"T_0105a_row1_col1\" class=\"data row1 col1\" >1</td>\n",
       "      <td id=\"T_0105a_row1_col2\" class=\"data row1 col2\" >0.055</td>\n",
       "      <td id=\"T_0105a_row1_col3\" class=\"data row1 col3\" >0.22</td>\n",
       "      <td id=\"T_0105a_row1_col4\" class=\"data row1 col4\" >-0.035</td>\n",
       "    </tr>\n",
       "    <tr>\n",
       "      <th id=\"T_0105a_level0_row2\" class=\"row_heading level0 row2\" >TEMP_MEAN_DAY1</th>\n",
       "      <td id=\"T_0105a_row2_col0\" class=\"data row2 col0\" >0.16</td>\n",
       "      <td id=\"T_0105a_row2_col1\" class=\"data row2 col1\" >0.055</td>\n",
       "      <td id=\"T_0105a_row2_col2\" class=\"data row2 col2\" >1</td>\n",
       "      <td id=\"T_0105a_row2_col3\" class=\"data row2 col3\" >0.27</td>\n",
       "      <td id=\"T_0105a_row2_col4\" class=\"data row2 col4\" >0.0056</td>\n",
       "    </tr>\n",
       "    <tr>\n",
       "      <th id=\"T_0105a_level0_row3\" class=\"row_heading level0 row3\" >HR_MEAN_DAY1</th>\n",
       "      <td id=\"T_0105a_row3_col0\" class=\"data row3 col0\" >0.29</td>\n",
       "      <td id=\"T_0105a_row3_col1\" class=\"data row3 col1\" >0.22</td>\n",
       "      <td id=\"T_0105a_row3_col2\" class=\"data row3 col2\" >0.27</td>\n",
       "      <td id=\"T_0105a_row3_col3\" class=\"data row3 col3\" >1</td>\n",
       "      <td id=\"T_0105a_row3_col4\" class=\"data row3 col4\" >0.063</td>\n",
       "    </tr>\n",
       "    <tr>\n",
       "      <th id=\"T_0105a_level0_row4\" class=\"row_heading level0 row4\" >Target</th>\n",
       "      <td id=\"T_0105a_row4_col0\" class=\"data row4 col0\" >0.096</td>\n",
       "      <td id=\"T_0105a_row4_col1\" class=\"data row4 col1\" >-0.035</td>\n",
       "      <td id=\"T_0105a_row4_col2\" class=\"data row4 col2\" >0.0056</td>\n",
       "      <td id=\"T_0105a_row4_col3\" class=\"data row4 col3\" >0.063</td>\n",
       "      <td id=\"T_0105a_row4_col4\" class=\"data row4 col4\" >1</td>\n",
       "    </tr>\n",
       "  </tbody>\n",
       "</table>\n"
      ],
      "text/plain": [
       "<pandas.io.formats.style.Styler at 0x21584459610>"
      ]
     },
     "execution_count": 14,
     "metadata": {},
     "output_type": "execute_result"
    }
   ],
   "source": [
    "# TODO: Add graph\n",
    "cols = [\"RESP_RATE_MEAN_DAY1\", \"DIAS_BP_MEAN_DAY2\", \"TEMP_MEAN_DAY1\", \"HR_MEAN_DAY1\"]\n",
    "corr_df = pd.DataFrame({c: x_df[c] for c in cols})\n",
    "corr_df[\"Target\"] = ys\n",
    "corr = corr_df.corr()\n",
    "corr.style.background_gradient(cmap=\"PiYG\", vmin=-1).format(\"{:.2g}\")"
   ]
  },
  {
   "cell_type": "code",
   "execution_count": 15,
   "metadata": {},
   "outputs": [
    {
     "data": {
      "text/plain": [
       "<Axes: >"
      ]
     },
     "execution_count": 15,
     "metadata": {},
     "output_type": "execute_result"
    },
    {
     "data": {
      "image/png": "[encoded data removed]",
      "text/plain": [
       "<Figure size 640x480 with 1 Axes>"
      ]
     },
     "metadata": {},
     "output_type": "display_data"
    }
   ],
   "source": [
    "corr.plot.barh()"
   ]
  },
  {
   "cell_type": "markdown",
   "metadata": {},
   "source": [
    "<span style=\"color:red\">\n",
    "    Utiliser des cellules markdown pour ajouter des commentaires\n",
    "</span>"
   ]
  },
  {
   "attachments": {},
   "cell_type": "markdown",
   "metadata": {},
   "source": [
    "D'apres cet autre graphe on remarque les variables les plus corrélées avec la cible sont : \n",
    "* le taux de respiration\n",
    "* encore le heart rate"
   ]
  },
  {
   "cell_type": "markdown",
   "metadata": {},
   "source": [
    "## 4. Pre-traitement"
   ]
  },
  {
   "cell_type": "markdown",
   "metadata": {},
   "source": [
    "### Code : Traitement du problème des valeurs manquantes (ou non définies, NAN)"
   ]
  },
  {
   "cell_type": "markdown",
   "metadata": {},
   "source": [
    "La solution la plus simple est d'éliminer l'ensemble des colonnes où il y a des données manquantes, mais on perd de l'information. \n",
    "\n",
    "Vu le faible nombre d'instances concernées (maximum 6 : voir ci-dessous) il parait plus pertinent de supprimer les lignes (instances) plutôt que les colonnes entières (variables).\n",
    "\n",
    "La solution que nous choisissons ici est une troisième, celle de remplacer les valeurs non définies par la valeur la plus probable de la variable. Comme ces valeurs manquantes concernent exclusivement des variables catégorielles et binaires, la valeur la plus probable est le *mode* (voir cours : `part-5-slides.pdf`)."
   ]
  },
  {
   "cell_type": "code",
   "execution_count": 16,
   "metadata": {},
   "outputs": [
    {
     "name": "stdout",
     "output_type": "stream",
     "text": [
      "(79999, 337) (20001, 337)\n"
     ]
    }
   ],
   "source": [
    "print(x_df.shape, x_test_df.shape)"
   ]
  },
  {
   "cell_type": "code",
   "execution_count": 17,
   "metadata": {},
   "outputs": [
    {
     "data": {
      "text/plain": [
       "LANGUAGE                              1\n",
       "MARITAL_STATUS                        1\n",
       "ICU                                   2\n",
       "ECodes:Adverseeffectsofmedicalcare    6\n",
       "Otnutritdx                            2\n",
       "Othnervdx                             1\n",
       "dtype: int64"
      ]
     },
     "execution_count": 17,
     "metadata": {},
     "output_type": "execute_result"
    }
   ],
   "source": [
    "x_nans = x_df.isna().sum()\n",
    "x_miss = x_nans[x_nans > 0]\n",
    "x_miss"
   ]
  },
  {
   "cell_type": "code",
   "execution_count": 18,
   "metadata": {},
   "outputs": [
    {
     "data": {
      "text/plain": [
       "LANGUAGE                              2\n",
       "ECodes:Adverseeffectsofmedicalcare    3\n",
       "dtype: int64"
      ]
     },
     "execution_count": 18,
     "metadata": {},
     "output_type": "execute_result"
    }
   ],
   "source": [
    "x_test_nans = x_test_df.isna().sum()\n",
    "x_test_miss = x_test_nans[x_test_nans > 0]\n",
    "x_test_miss"
   ]
  },
  {
   "cell_type": "code",
   "execution_count": 19,
   "metadata": {},
   "outputs": [
    {
     "data": {
      "text/html": [
       "<div>\n",
       "<style scoped>\n",
       "    .dataframe tbody tr th:only-of-type {\n",
       "        vertical-align: middle;\n",
       "    }\n",
       "\n",
       "    .dataframe tbody tr th {\n",
       "        vertical-align: top;\n",
       "    }\n",
       "\n",
       "    .dataframe thead th {\n",
       "        text-align: right;\n",
       "    }\n",
       "</style>\n",
       "<table border=\"1\" class=\"dataframe\">\n",
       "  <thead>\n",
       "    <tr style=\"text-align: right;\">\n",
       "      <th></th>\n",
       "      <th>LANGUAGE</th>\n",
       "      <th>MARITAL_STATUS</th>\n",
       "      <th>ICU</th>\n",
       "      <th>ECodes:Adverseeffectsofmedicalcare</th>\n",
       "      <th>Otnutritdx</th>\n",
       "      <th>Othnervdx</th>\n",
       "    </tr>\n",
       "  </thead>\n",
       "  <tbody>\n",
       "    <tr>\n",
       "      <th>2251</th>\n",
       "      <td>ENGL</td>\n",
       "      <td>MARRIED</td>\n",
       "      <td>MICU</td>\n",
       "      <td>NaN</td>\n",
       "      <td>0</td>\n",
       "      <td>0</td>\n",
       "    </tr>\n",
       "    <tr>\n",
       "      <th>9983</th>\n",
       "      <td>ENGL</td>\n",
       "      <td>MARRIED</td>\n",
       "      <td>MICU</td>\n",
       "      <td>0</td>\n",
       "      <td>NaN</td>\n",
       "      <td>0</td>\n",
       "    </tr>\n",
       "    <tr>\n",
       "      <th>10549</th>\n",
       "      <td>ENGL</td>\n",
       "      <td>MARRIED</td>\n",
       "      <td>MICU</td>\n",
       "      <td>0</td>\n",
       "      <td>NaN</td>\n",
       "      <td>0</td>\n",
       "    </tr>\n",
       "    <tr>\n",
       "      <th>10831</th>\n",
       "      <td>ENGL</td>\n",
       "      <td>MARRIED</td>\n",
       "      <td>MICU</td>\n",
       "      <td>NaN</td>\n",
       "      <td>1</td>\n",
       "      <td>0</td>\n",
       "    </tr>\n",
       "    <tr>\n",
       "      <th>17012</th>\n",
       "      <td>ENGL</td>\n",
       "      <td>MARRIED</td>\n",
       "      <td>CSRU</td>\n",
       "      <td>NaN</td>\n",
       "      <td>0</td>\n",
       "      <td>1</td>\n",
       "    </tr>\n",
       "    <tr>\n",
       "      <th>23088</th>\n",
       "      <td>ENGL</td>\n",
       "      <td>MARRIED</td>\n",
       "      <td>NaN</td>\n",
       "      <td>0</td>\n",
       "      <td>0</td>\n",
       "      <td>0</td>\n",
       "    </tr>\n",
       "    <tr>\n",
       "      <th>32539</th>\n",
       "      <td>ENGL</td>\n",
       "      <td>NaN</td>\n",
       "      <td>CSRU</td>\n",
       "      <td>0</td>\n",
       "      <td>0</td>\n",
       "      <td>0</td>\n",
       "    </tr>\n",
       "    <tr>\n",
       "      <th>42762</th>\n",
       "      <td>ENGL</td>\n",
       "      <td>SINGLE</td>\n",
       "      <td>TSICU</td>\n",
       "      <td>NaN</td>\n",
       "      <td>0</td>\n",
       "      <td>0</td>\n",
       "    </tr>\n",
       "    <tr>\n",
       "      <th>53191</th>\n",
       "      <td>NaN</td>\n",
       "      <td>MARRIED</td>\n",
       "      <td>MICU</td>\n",
       "      <td>0</td>\n",
       "      <td>0</td>\n",
       "      <td>0</td>\n",
       "    </tr>\n",
       "    <tr>\n",
       "      <th>53390</th>\n",
       "      <td>CAPE</td>\n",
       "      <td>MARRIED</td>\n",
       "      <td>NaN</td>\n",
       "      <td>0</td>\n",
       "      <td>0</td>\n",
       "      <td>0</td>\n",
       "    </tr>\n",
       "    <tr>\n",
       "      <th>56772</th>\n",
       "      <td>ENGL</td>\n",
       "      <td>MARRIED</td>\n",
       "      <td>CSRU</td>\n",
       "      <td>NaN</td>\n",
       "      <td>0</td>\n",
       "      <td>0</td>\n",
       "    </tr>\n",
       "    <tr>\n",
       "      <th>61852</th>\n",
       "      <td>ENGL</td>\n",
       "      <td>MARRIED</td>\n",
       "      <td>SICU</td>\n",
       "      <td>NaN</td>\n",
       "      <td>0</td>\n",
       "      <td>0</td>\n",
       "    </tr>\n",
       "    <tr>\n",
       "      <th>71511</th>\n",
       "      <td>ENGL</td>\n",
       "      <td>MARRIED</td>\n",
       "      <td>TSICU</td>\n",
       "      <td>0</td>\n",
       "      <td>0</td>\n",
       "      <td>NaN</td>\n",
       "    </tr>\n",
       "  </tbody>\n",
       "</table>\n",
       "</div>"
      ],
      "text/plain": [
       "      LANGUAGE MARITAL_STATUS    ICU  ECodes:Adverseeffectsofmedicalcare  \\\n",
       "2251      ENGL        MARRIED   MICU                                 NaN   \n",
       "9983      ENGL        MARRIED   MICU                                   0   \n",
       "10549     ENGL        MARRIED   MICU                                   0   \n",
       "10831     ENGL        MARRIED   MICU                                 NaN   \n",
       "17012     ENGL        MARRIED   CSRU                                 NaN   \n",
       "23088     ENGL        MARRIED    NaN                                   0   \n",
       "32539     ENGL            NaN   CSRU                                   0   \n",
       "42762     ENGL         SINGLE  TSICU                                 NaN   \n",
       "53191      NaN        MARRIED   MICU                                   0   \n",
       "53390     CAPE        MARRIED    NaN                                   0   \n",
       "56772     ENGL        MARRIED   CSRU                                 NaN   \n",
       "61852     ENGL        MARRIED   SICU                                 NaN   \n",
       "71511     ENGL        MARRIED  TSICU                                   0   \n",
       "\n",
       "       Otnutritdx  Othnervdx  \n",
       "2251            0          0  \n",
       "9983          NaN          0  \n",
       "10549         NaN          0  \n",
       "10831           1          0  \n",
       "17012           0          1  \n",
       "23088           0          0  \n",
       "32539           0          0  \n",
       "42762           0          0  \n",
       "53191           0          0  \n",
       "53390           0          0  \n",
       "56772           0          0  \n",
       "61852           0          0  \n",
       "71511           0        NaN  "
      ]
     },
     "execution_count": 19,
     "metadata": {},
     "output_type": "execute_result"
    }
   ],
   "source": [
    "x_miss_rows = x_df.isna().any(axis=\"columns\")\n",
    "\n",
    "x_df.loc[x_miss_rows, x_miss.index]"
   ]
  },
  {
   "cell_type": "markdown",
   "metadata": {},
   "source": [
    "#### Remplacement des NAN"
   ]
  },
  {
   "cell_type": "code",
   "execution_count": 20,
   "metadata": {},
   "outputs": [],
   "source": [
    "na_cols = set(x_miss.index) | set(x_test_miss.index)\n",
    "\n",
    "for col in na_cols:\n",
    "    x_df[col].fillna(x_df[col].mode()[0], inplace=True)\n",
    "    x_test_df[col].fillna(x_test_df[col].mode()[0], inplace=True)"
   ]
  },
  {
   "cell_type": "code",
   "execution_count": 21,
   "metadata": {},
   "outputs": [
    {
     "name": "stdout",
     "output_type": "stream",
     "text": [
      "False\n",
      "False\n"
     ]
    }
   ],
   "source": [
    "print(\n",
    "    x_df.isna().any().any(),\n",
    "    x_test_df.isna().any().any(),\n",
    "    sep=\"\\n\",\n",
    ")"
   ]
  },
  {
   "cell_type": "code",
   "execution_count": 22,
   "metadata": {},
   "outputs": [
    {
     "name": "stdout",
     "output_type": "stream",
     "text": [
      "(79999, 337) (20001, 337)\n"
     ]
    }
   ],
   "source": [
    "print(x_df.shape, x_test_df.shape)"
   ]
  },
  {
   "cell_type": "markdown",
   "metadata": {},
   "source": [
    "### Gestion des catégories rares"
   ]
  },
  {
   "cell_type": "markdown",
   "metadata": {},
   "source": [
    "Simplifiez les données en regroupant par exemple les catégories rares."
   ]
  },
  {
   "cell_type": "code",
   "execution_count": 23,
   "metadata": {},
   "outputs": [
    {
     "name": "stdout",
     "output_type": "stream",
     "text": [
      "Index(['CATHOLIC', 'NOT_SPECIFIED', 'UNOBTAINABLE', 'PROTESTANT_QUAKER',\n",
      "       'JEWISH'],\n",
      "      dtype='object')\n",
      "CATHOLIC             7517\n",
      "NOT_SPECIFIED        3764\n",
      "OTHER                2449\n",
      "UNOBTAINABLE         2208\n",
      "PROTESTANT_QUAKER    2208\n",
      "JEWISH               1855\n",
      "Name: RELIGION, dtype: int64\n"
     ]
    }
   ],
   "source": [
    "def merge_rare_categories(dfs, col, keeps=None, keep_n=5):\n",
    "    if keeps is None:\n",
    "        keeps = x_df[col].value_counts()[:keep_n].index\n",
    "        print(keeps)\n",
    "\n",
    "    for df in dfs:\n",
    "        df.loc[~df[col].isin(keeps), col] = \"OTHER\"\n",
    "\n",
    "\n",
    "merge_rare_categories([x_df, x_test_df], col=\"RELIGION\", keep_n=5)\n",
    "print(x_test_df[\"RELIGION\"].value_counts())"
   ]
  },
  {
   "cell_type": "markdown",
   "metadata": {},
   "source": [
    "#### Code : Effectuez des regroupements de catégories rares pour d'autres variables si vous le jugez nécessaire"
   ]
  },
  {
   "cell_type": "markdown",
   "metadata": {},
   "source": [
    "<span style=\"color:red\">\n",
    "    Répondre ci-dessous\n",
    "</span>"
   ]
  },
  {
   "attachments": {},
   "cell_type": "markdown",
   "metadata": {},
   "source": [
    "Ici on a choisi de regrouper les catégories rares dans : \n",
    "* Language\n",
    "* Ethnicity"
   ]
  },
  {
   "cell_type": "code",
   "execution_count": 24,
   "metadata": {},
   "outputs": [
    {
     "name": "stdout",
     "output_type": "stream",
     "text": [
      "Index(['ENGL', 'SPAN', 'RUSS', 'PTUN', 'CANT'], dtype='object')\n",
      "ENGL     18883\n",
      "OTHER      485\n",
      "SPAN       258\n",
      "RUSS       151\n",
      "PTUN       147\n",
      "CANT        77\n",
      "Name: LANGUAGE, dtype: int64\n"
     ]
    }
   ],
   "source": [
    "# TODO: Other application of merge_rare_categories\n",
    "merge_rare_categories([x_df, x_test_df], col=\"LANGUAGE\", keep_n=5)\n",
    "print(x_test_df[\"LANGUAGE\"].value_counts())"
   ]
  },
  {
   "cell_type": "code",
   "execution_count": 25,
   "metadata": {},
   "outputs": [
    {
     "name": "stdout",
     "output_type": "stream",
     "text": [
      "Index(['WHITE', 'UNKNOWN/NOT_SPECIFIED', 'BLACK/AFRICAN_AMERICAN', 'OTHER',\n",
      "       'HISPANIC_OR_LATINO'],\n",
      "      dtype='object')\n",
      "WHITE                     14930\n",
      "OTHER                      2676\n",
      "UNKNOWN/NOT_SPECIFIED      1088\n",
      "BLACK/AFRICAN_AMERICAN      930\n",
      "HISPANIC_OR_LATINO          377\n",
      "Name: ETHNICITY, dtype: int64\n"
     ]
    }
   ],
   "source": [
    "merge_rare_categories([x_df, x_test_df], col=\"ETHNICITY\", keep_n=5)\n",
    "print(x_test_df[\"ETHNICITY\"].value_counts())"
   ]
  },
  {
   "cell_type": "markdown",
   "metadata": {},
   "source": [
    "### Transformation des données catégorielles en nombres entiers en utilisant deux types d'encodage"
   ]
  },
  {
   "cell_type": "markdown",
   "metadata": {},
   "source": [
    "Les variables catégorielles sont présentées sous forme de chaines de caractères. La plupart des modèles ne pourront pas les prendre en entrée.\n",
    "\n",
    "#### Encodage numérique simple\n",
    "\n",
    "Deux des méthodes les plus simples sont `LabelEncoder` de Scikit-Learn et `factorize` de pandas. Elles consistent simplement à remplacer chaque nouvelle catégorie rencontrée par un entier, en commençant par 0. Ce n'est cependant peut-être pas la méthode la plus efficace, car elle présuppose une proximité entre les catégories codées avec des valeurs proches."
   ]
  },
  {
   "cell_type": "code",
   "execution_count": 26,
   "metadata": {},
   "outputs": [],
   "source": [
    "def label_encode(df, other_df, only_binary=False):\n",
    "    \"\"\"\n",
    "    Select categorical variables and encode them in integers.\n",
    "    \"\"\"\n",
    "    char_cols = df.dtypes.pipe(lambda x: x[x == \"object\"]).index\n",
    "    # print(char_cols)\n",
    "\n",
    "    for col in char_cols:\n",
    "        n_categories = len(x_df[col].unique())\n",
    "\n",
    "        if not only_binary or n_categories == 2:\n",
    "            codes, uniques = pd.factorize(df[col])\n",
    "            df[col] = codes\n",
    "\n",
    "            # Create conversion dic to convert values of test set as well\n",
    "            cat2code = {k: v for v, k in enumerate(uniques)}\n",
    "            other_df[col] = other_df[col].map(cat2code)"
   ]
  },
  {
   "cell_type": "code",
   "execution_count": 27,
   "metadata": {},
   "outputs": [
    {
     "data": {
      "text/html": [
       "<div>\n",
       "<style scoped>\n",
       "    .dataframe tbody tr th:only-of-type {\n",
       "        vertical-align: middle;\n",
       "    }\n",
       "\n",
       "    .dataframe tbody tr th {\n",
       "        vertical-align: top;\n",
       "    }\n",
       "\n",
       "    .dataframe thead th {\n",
       "        text-align: right;\n",
       "    }\n",
       "</style>\n",
       "<table border=\"1\" class=\"dataframe\">\n",
       "  <thead>\n",
       "    <tr style=\"text-align: right;\">\n",
       "      <th></th>\n",
       "      <th>INSURANCE</th>\n",
       "      <th>LANGUAGE</th>\n",
       "      <th>RELIGION</th>\n",
       "      <th>MARITAL_STATUS</th>\n",
       "      <th>ETHNICITY</th>\n",
       "      <th>GENDER</th>\n",
       "      <th>AGE</th>\n",
       "      <th>HR_MIN_DAY1</th>\n",
       "      <th>HR_MAX_DAY1</th>\n",
       "      <th>HR_MEAN_DAY1</th>\n",
       "      <th>...</th>\n",
       "      <th>Eyeinfectn</th>\n",
       "      <th>Othereyedx</th>\n",
       "      <th>Otitismedia</th>\n",
       "      <th>Dizziness</th>\n",
       "      <th>Othereardx</th>\n",
       "      <th>Othnervdx</th>\n",
       "      <th>Hrtvalvedx</th>\n",
       "      <th>Carditis</th>\n",
       "      <th>HTN</th>\n",
       "      <th>Htncomplicn</th>\n",
       "    </tr>\n",
       "  </thead>\n",
       "  <tbody>\n",
       "    <tr>\n",
       "      <th>0</th>\n",
       "      <td>Private</td>\n",
       "      <td>ENGL</td>\n",
       "      <td>CATHOLIC</td>\n",
       "      <td>DIVORCED</td>\n",
       "      <td>WHITE</td>\n",
       "      <td>F</td>\n",
       "      <td>21</td>\n",
       "      <td>57.2</td>\n",
       "      <td>109</td>\n",
       "      <td>70.8</td>\n",
       "      <td>...</td>\n",
       "      <td>0</td>\n",
       "      <td>0</td>\n",
       "      <td>0</td>\n",
       "      <td>0</td>\n",
       "      <td>0</td>\n",
       "      <td>0</td>\n",
       "      <td>0</td>\n",
       "      <td>0</td>\n",
       "      <td>0</td>\n",
       "      <td>0</td>\n",
       "    </tr>\n",
       "    <tr>\n",
       "      <th>1</th>\n",
       "      <td>Private</td>\n",
       "      <td>ENGL</td>\n",
       "      <td>UNOBTAINABLE</td>\n",
       "      <td>SINGLE</td>\n",
       "      <td>WHITE</td>\n",
       "      <td>M</td>\n",
       "      <td>39</td>\n",
       "      <td>79.3</td>\n",
       "      <td>121</td>\n",
       "      <td>96.9</td>\n",
       "      <td>...</td>\n",
       "      <td>0</td>\n",
       "      <td>0</td>\n",
       "      <td>0</td>\n",
       "      <td>0</td>\n",
       "      <td>0</td>\n",
       "      <td>0</td>\n",
       "      <td>0</td>\n",
       "      <td>0</td>\n",
       "      <td>0</td>\n",
       "      <td>1</td>\n",
       "    </tr>\n",
       "    <tr>\n",
       "      <th>2</th>\n",
       "      <td>Medicaid</td>\n",
       "      <td>SPAN</td>\n",
       "      <td>CATHOLIC</td>\n",
       "      <td>WIDOWED</td>\n",
       "      <td>OTHER</td>\n",
       "      <td>M</td>\n",
       "      <td>40</td>\n",
       "      <td>118</td>\n",
       "      <td>175</td>\n",
       "      <td>141</td>\n",
       "      <td>...</td>\n",
       "      <td>0</td>\n",
       "      <td>0</td>\n",
       "      <td>0</td>\n",
       "      <td>0</td>\n",
       "      <td>0</td>\n",
       "      <td>0</td>\n",
       "      <td>0</td>\n",
       "      <td>0</td>\n",
       "      <td>0</td>\n",
       "      <td>0</td>\n",
       "    </tr>\n",
       "  </tbody>\n",
       "</table>\n",
       "<p>3 rows × 337 columns</p>\n",
       "</div>"
      ],
      "text/plain": [
       "  INSURANCE LANGUAGE      RELIGION MARITAL_STATUS ETHNICITY GENDER  AGE  \\\n",
       "0   Private     ENGL      CATHOLIC       DIVORCED     WHITE      F   21   \n",
       "1   Private     ENGL  UNOBTAINABLE         SINGLE     WHITE      M   39   \n",
       "2  Medicaid     SPAN      CATHOLIC        WIDOWED     OTHER      M   40   \n",
       "\n",
       "   HR_MIN_DAY1  HR_MAX_DAY1  HR_MEAN_DAY1  ...  Eyeinfectn  Othereyedx  \\\n",
       "0         57.2          109          70.8  ...           0           0   \n",
       "1         79.3          121          96.9  ...           0           0   \n",
       "2          118          175           141  ...           0           0   \n",
       "\n",
       "   Otitismedia  Dizziness  Othereardx  Othnervdx  Hrtvalvedx  Carditis  HTN  \\\n",
       "0            0          0           0          0           0         0    0   \n",
       "1            0          0           0          0           0         0    0   \n",
       "2            0          0           0          0           0         0    0   \n",
       "\n",
       "   Htncomplicn  \n",
       "0            0  \n",
       "1            1  \n",
       "2            0  \n",
       "\n",
       "[3 rows x 337 columns]"
      ]
     },
     "execution_count": 27,
     "metadata": {},
     "output_type": "execute_result"
    }
   ],
   "source": [
    "x_df.head(3)"
   ]
  },
  {
   "cell_type": "code",
   "execution_count": 28,
   "metadata": {},
   "outputs": [
    {
     "name": "stdout",
     "output_type": "stream",
     "text": [
      "(79999, 337) (79999,)\n"
     ]
    }
   ],
   "source": [
    "print(x_df.shape, ys.shape)"
   ]
  },
  {
   "cell_type": "code",
   "execution_count": 29,
   "metadata": {},
   "outputs": [],
   "source": [
    "x_fact_df = x_df.copy()\n",
    "x_test_fact_df = x_test_df.copy()\n",
    "\n",
    "label_encode(x_fact_df, x_test_fact_df)"
   ]
  },
  {
   "cell_type": "code",
   "execution_count": 30,
   "metadata": {},
   "outputs": [
    {
     "data": {
      "text/html": [
       "<div>\n",
       "<style scoped>\n",
       "    .dataframe tbody tr th:only-of-type {\n",
       "        vertical-align: middle;\n",
       "    }\n",
       "\n",
       "    .dataframe tbody tr th {\n",
       "        vertical-align: top;\n",
       "    }\n",
       "\n",
       "    .dataframe thead th {\n",
       "        text-align: right;\n",
       "    }\n",
       "</style>\n",
       "<table border=\"1\" class=\"dataframe\">\n",
       "  <thead>\n",
       "    <tr style=\"text-align: right;\">\n",
       "      <th></th>\n",
       "      <th>INSURANCE</th>\n",
       "      <th>LANGUAGE</th>\n",
       "      <th>RELIGION</th>\n",
       "      <th>MARITAL_STATUS</th>\n",
       "      <th>ETHNICITY</th>\n",
       "      <th>GENDER</th>\n",
       "      <th>AGE</th>\n",
       "      <th>HR_MIN_DAY1</th>\n",
       "      <th>HR_MAX_DAY1</th>\n",
       "      <th>HR_MEAN_DAY1</th>\n",
       "      <th>...</th>\n",
       "      <th>Eyeinfectn</th>\n",
       "      <th>Othereyedx</th>\n",
       "      <th>Otitismedia</th>\n",
       "      <th>Dizziness</th>\n",
       "      <th>Othereardx</th>\n",
       "      <th>Othnervdx</th>\n",
       "      <th>Hrtvalvedx</th>\n",
       "      <th>Carditis</th>\n",
       "      <th>HTN</th>\n",
       "      <th>Htncomplicn</th>\n",
       "    </tr>\n",
       "  </thead>\n",
       "  <tbody>\n",
       "    <tr>\n",
       "      <th>0</th>\n",
       "      <td>0</td>\n",
       "      <td>0</td>\n",
       "      <td>0</td>\n",
       "      <td>0</td>\n",
       "      <td>0</td>\n",
       "      <td>0</td>\n",
       "      <td>21</td>\n",
       "      <td>57.2</td>\n",
       "      <td>109</td>\n",
       "      <td>70.8</td>\n",
       "      <td>...</td>\n",
       "      <td>0</td>\n",
       "      <td>0</td>\n",
       "      <td>0</td>\n",
       "      <td>0</td>\n",
       "      <td>0</td>\n",
       "      <td>0</td>\n",
       "      <td>0</td>\n",
       "      <td>0</td>\n",
       "      <td>0</td>\n",
       "      <td>0</td>\n",
       "    </tr>\n",
       "    <tr>\n",
       "      <th>1</th>\n",
       "      <td>0</td>\n",
       "      <td>0</td>\n",
       "      <td>1</td>\n",
       "      <td>1</td>\n",
       "      <td>0</td>\n",
       "      <td>1</td>\n",
       "      <td>39</td>\n",
       "      <td>79.3</td>\n",
       "      <td>121</td>\n",
       "      <td>96.9</td>\n",
       "      <td>...</td>\n",
       "      <td>0</td>\n",
       "      <td>0</td>\n",
       "      <td>0</td>\n",
       "      <td>0</td>\n",
       "      <td>0</td>\n",
       "      <td>0</td>\n",
       "      <td>0</td>\n",
       "      <td>0</td>\n",
       "      <td>0</td>\n",
       "      <td>1</td>\n",
       "    </tr>\n",
       "    <tr>\n",
       "      <th>2</th>\n",
       "      <td>1</td>\n",
       "      <td>1</td>\n",
       "      <td>0</td>\n",
       "      <td>2</td>\n",
       "      <td>1</td>\n",
       "      <td>1</td>\n",
       "      <td>40</td>\n",
       "      <td>118</td>\n",
       "      <td>175</td>\n",
       "      <td>141</td>\n",
       "      <td>...</td>\n",
       "      <td>0</td>\n",
       "      <td>0</td>\n",
       "      <td>0</td>\n",
       "      <td>0</td>\n",
       "      <td>0</td>\n",
       "      <td>0</td>\n",
       "      <td>0</td>\n",
       "      <td>0</td>\n",
       "      <td>0</td>\n",
       "      <td>0</td>\n",
       "    </tr>\n",
       "  </tbody>\n",
       "</table>\n",
       "<p>3 rows × 337 columns</p>\n",
       "</div>"
      ],
      "text/plain": [
       "   INSURANCE  LANGUAGE  RELIGION  MARITAL_STATUS  ETHNICITY  GENDER  AGE  \\\n",
       "0          0         0         0               0          0       0   21   \n",
       "1          0         0         1               1          0       1   39   \n",
       "2          1         1         0               2          1       1   40   \n",
       "\n",
       "   HR_MIN_DAY1  HR_MAX_DAY1  HR_MEAN_DAY1  ...  Eyeinfectn  Othereyedx  \\\n",
       "0         57.2          109          70.8  ...           0           0   \n",
       "1         79.3          121          96.9  ...           0           0   \n",
       "2          118          175           141  ...           0           0   \n",
       "\n",
       "   Otitismedia  Dizziness  Othereardx  Othnervdx  Hrtvalvedx  Carditis  HTN  \\\n",
       "0            0          0           0          0           0         0    0   \n",
       "1            0          0           0          0           0         0    0   \n",
       "2            0          0           0          0           0         0    0   \n",
       "\n",
       "   Htncomplicn  \n",
       "0            0  \n",
       "1            1  \n",
       "2            0  \n",
       "\n",
       "[3 rows x 337 columns]"
      ]
     },
     "execution_count": 30,
     "metadata": {},
     "output_type": "execute_result"
    }
   ],
   "source": [
    "x_fact_df.head(3)"
   ]
  },
  {
   "cell_type": "code",
   "execution_count": 31,
   "metadata": {},
   "outputs": [
    {
     "data": {
      "text/html": [
       "<div>\n",
       "<style scoped>\n",
       "    .dataframe tbody tr th:only-of-type {\n",
       "        vertical-align: middle;\n",
       "    }\n",
       "\n",
       "    .dataframe tbody tr th {\n",
       "        vertical-align: top;\n",
       "    }\n",
       "\n",
       "    .dataframe thead th {\n",
       "        text-align: right;\n",
       "    }\n",
       "</style>\n",
       "<table border=\"1\" class=\"dataframe\">\n",
       "  <thead>\n",
       "    <tr style=\"text-align: right;\">\n",
       "      <th></th>\n",
       "      <th>INSURANCE</th>\n",
       "      <th>LANGUAGE</th>\n",
       "      <th>RELIGION</th>\n",
       "      <th>MARITAL_STATUS</th>\n",
       "      <th>ETHNICITY</th>\n",
       "      <th>GENDER</th>\n",
       "      <th>AGE</th>\n",
       "      <th>HR_MIN_DAY1</th>\n",
       "      <th>HR_MAX_DAY1</th>\n",
       "      <th>HR_MEAN_DAY1</th>\n",
       "      <th>...</th>\n",
       "      <th>Eyeinfectn</th>\n",
       "      <th>Othereyedx</th>\n",
       "      <th>Otitismedia</th>\n",
       "      <th>Dizziness</th>\n",
       "      <th>Othereardx</th>\n",
       "      <th>Othnervdx</th>\n",
       "      <th>Hrtvalvedx</th>\n",
       "      <th>Carditis</th>\n",
       "      <th>HTN</th>\n",
       "      <th>Htncomplicn</th>\n",
       "    </tr>\n",
       "  </thead>\n",
       "  <tbody>\n",
       "    <tr>\n",
       "      <th>0</th>\n",
       "      <td>3</td>\n",
       "      <td>0</td>\n",
       "      <td>5</td>\n",
       "      <td>3</td>\n",
       "      <td>0</td>\n",
       "      <td>0</td>\n",
       "      <td>18</td>\n",
       "      <td>72.6</td>\n",
       "      <td>113</td>\n",
       "      <td>96.5</td>\n",
       "      <td>...</td>\n",
       "      <td>0</td>\n",
       "      <td>0</td>\n",
       "      <td>0</td>\n",
       "      <td>0</td>\n",
       "      <td>0</td>\n",
       "      <td>0</td>\n",
       "      <td>0</td>\n",
       "      <td>0</td>\n",
       "      <td>0</td>\n",
       "      <td>0</td>\n",
       "    </tr>\n",
       "    <tr>\n",
       "      <th>1</th>\n",
       "      <td>2</td>\n",
       "      <td>0</td>\n",
       "      <td>2</td>\n",
       "      <td>1</td>\n",
       "      <td>3</td>\n",
       "      <td>0</td>\n",
       "      <td>56</td>\n",
       "      <td>66.6</td>\n",
       "      <td>107</td>\n",
       "      <td>83.8</td>\n",
       "      <td>...</td>\n",
       "      <td>0</td>\n",
       "      <td>0</td>\n",
       "      <td>0</td>\n",
       "      <td>0</td>\n",
       "      <td>0</td>\n",
       "      <td>0</td>\n",
       "      <td>0</td>\n",
       "      <td>0</td>\n",
       "      <td>1</td>\n",
       "      <td>0</td>\n",
       "    </tr>\n",
       "    <tr>\n",
       "      <th>2</th>\n",
       "      <td>1</td>\n",
       "      <td>0</td>\n",
       "      <td>0</td>\n",
       "      <td>1</td>\n",
       "      <td>0</td>\n",
       "      <td>1</td>\n",
       "      <td>32</td>\n",
       "      <td>69.7</td>\n",
       "      <td>103</td>\n",
       "      <td>87.3</td>\n",
       "      <td>...</td>\n",
       "      <td>0</td>\n",
       "      <td>0</td>\n",
       "      <td>0</td>\n",
       "      <td>0</td>\n",
       "      <td>0</td>\n",
       "      <td>0</td>\n",
       "      <td>0</td>\n",
       "      <td>0</td>\n",
       "      <td>0</td>\n",
       "      <td>0</td>\n",
       "    </tr>\n",
       "  </tbody>\n",
       "</table>\n",
       "<p>3 rows × 337 columns</p>\n",
       "</div>"
      ],
      "text/plain": [
       "   INSURANCE  LANGUAGE  RELIGION  MARITAL_STATUS  ETHNICITY  GENDER  AGE  \\\n",
       "0          3         0         5               3          0       0   18   \n",
       "1          2         0         2               1          3       0   56   \n",
       "2          1         0         0               1          0       1   32   \n",
       "\n",
       "   HR_MIN_DAY1  HR_MAX_DAY1  HR_MEAN_DAY1  ...  Eyeinfectn  Othereyedx  \\\n",
       "0         72.6          113          96.5  ...           0           0   \n",
       "1         66.6          107          83.8  ...           0           0   \n",
       "2         69.7          103          87.3  ...           0           0   \n",
       "\n",
       "   Otitismedia  Dizziness  Othereardx  Othnervdx  Hrtvalvedx  Carditis  HTN  \\\n",
       "0            0          0           0          0           0         0    0   \n",
       "1            0          0           0          0           0         0    1   \n",
       "2            0          0           0          0           0         0    0   \n",
       "\n",
       "   Htncomplicn  \n",
       "0            0  \n",
       "1            0  \n",
       "2            0  \n",
       "\n",
       "[3 rows x 337 columns]"
      ]
     },
     "execution_count": 31,
     "metadata": {},
     "output_type": "execute_result"
    }
   ],
   "source": [
    "x_test_fact_df.head(3)"
   ]
  },
  {
   "cell_type": "markdown",
   "metadata": {},
   "source": [
    "#### Encodage 1-Hot\n",
    "\n",
    "Un autre type d'encodage est souvent plus efficace, il a notamment l'avantage de ne pas ordonner les classes d'une manière particulière (pas forcément en adéquation avec la proximité de ces classes entre elles).\n",
    "\n",
    "Une méthode de pandas permet de le réaliser en 1 ligne de code avec la fonction `get_dummies`."
   ]
  },
  {
   "cell_type": "markdown",
   "metadata": {},
   "source": [
    "Exemple d'encodage 1-hot avec la fonction `get_dummies` de pandas (pour MARITAL_STATUS) :\n",
    "\n",
    "|    |   DIVORCED |   LIFE_PARTNER |   MARRIED |   SEPARATED |   SINGLE |   UNKNOWN_(DEFAULT) |   WIDOWED |\n",
    "|---:|-----------:|---------------:|----------:|------------:|---------:|--------------------:|----------:|\n",
    "|  0 |          1 |              0 |         0 |           0 |        0 |                   0 |         0 |\n",
    "|  1 |          0 |              0 |         0 |           0 |        1 |                   0 |         0 |\n",
    "|  2 |          0 |              0 |         0 |           0 |        0 |                   0 |         1 |\n",
    "|  3 |          0 |              0 |         1 |           0 |        0 |                   0 |         0 |\n",
    "|  4 |          0 |              0 |         1 |           0 |        0 |                   0 |         0 |"
   ]
  },
  {
   "cell_type": "code",
   "execution_count": 32,
   "metadata": {},
   "outputs": [
    {
     "name": "stdout",
     "output_type": "stream",
     "text": [
      "(79999, 337) (20001, 337)\n",
      "(79999, 365) (20001, 365)\n"
     ]
    }
   ],
   "source": [
    "# Encode binary features on a single column (no need for 1-hot)\n",
    "label_encode(x_df, x_test_df, only_binary=True)\n",
    "\n",
    "x_all_1h_df = pd.get_dummies(pd.concat([x_df, x_test_df]))\n",
    "\n",
    "x_1h_df = x_all_1h_df.iloc[: len(x_df)].copy()\n",
    "x_test_1h_df = x_all_1h_df.iloc[len(x_df):].copy()\n",
    "\n",
    "print(x_df.shape, x_test_df.shape)\n",
    "print(x_1h_df.shape, x_test_1h_df.shape)"
   ]
  },
  {
   "cell_type": "markdown",
   "metadata": {},
   "source": [
    "#### Suppression des variables à valeur unique (constantes)"
   ]
  },
  {
   "cell_type": "code",
   "execution_count": 33,
   "metadata": {},
   "outputs": [
    {
     "data": {
      "text/plain": [
       "173"
      ]
     },
     "execution_count": 33,
     "metadata": {},
     "output_type": "execute_result"
    }
   ],
   "source": [
    "const_cols = {col for col in x_1h_df if len(x_1h_df[col].unique()) == 1}\n",
    "len(const_cols)"
   ]
  },
  {
   "cell_type": "code",
   "execution_count": 34,
   "metadata": {},
   "outputs": [
    {
     "name": "stdout",
     "output_type": "stream",
     "text": [
      "(79999, 192) (20001, 192)\n"
     ]
    }
   ],
   "source": [
    "x_1h_df.drop(const_cols, axis=\"columns\", inplace=True)\n",
    "x_test_1h_df.drop(const_cols, axis=\"columns\", inplace=True)\n",
    "\n",
    "print(x_1h_df.shape, x_test_1h_df.shape)"
   ]
  },
  {
   "cell_type": "markdown",
   "metadata": {},
   "source": [
    "### Création de l'ensemble de validation"
   ]
  },
  {
   "cell_type": "code",
   "execution_count": 35,
   "metadata": {},
   "outputs": [],
   "source": [
    "x_train, x_valid, y_train, y_valid = model_selection.train_test_split(\n",
    "    x_1h_df, ys, test_size=0.3\n",
    ")\n",
    "# VARS: x_df, x_fact_df, x_1h_df"
   ]
  },
  {
   "cell_type": "markdown",
   "metadata": {},
   "source": [
    "### Réduction de la dimension via l'ACP (PCA)"
   ]
  },
  {
   "cell_type": "markdown",
   "metadata": {},
   "source": [
    "Testez l'ACP pour réduire le nombre de dimensions et observez si cela améliore le résultat.\n",
    "\n",
    "Avant d'appliquer la ACP, il est conseillé de centrer-réduire les données (e.g., via `preprocessing.StandardScaler()`)."
   ]
  },
  {
   "cell_type": "markdown",
   "metadata": {},
   "source": [
    "<span style=\"color:red\">\n",
    "    Répondre ci-dessous\n",
    "</span>"
   ]
  },
  {
   "cell_type": "code",
   "execution_count": 36,
   "metadata": {},
   "outputs": [
    {
     "data": {
      "text/plain": [
       "array([[-3.776, -0.572, -1.559, ..., -0.127,  0.587,  0.643],\n",
       "       [-0.174,  0.2  , -2.119, ...,  0.034,  0.098,  1.337],\n",
       "       [ 8.565, 10.012, -2.209, ...,  1.95 , -1.364, -1.152],\n",
       "       ...,\n",
       "       [ 0.518, -4.683, -0.38 , ...,  0.637,  0.567,  0.729],\n",
       "       [ 1.075,  1.629, -2.008, ..., -0.007,  0.727, -0.947],\n",
       "       [ 3.116,  4.567, -1.06 , ...,  2.121,  0.135, -0.745]])"
      ]
     },
     "execution_count": 36,
     "metadata": {},
     "output_type": "execute_result"
    }
   ],
   "source": [
    "# TODO: PCA\n",
    "from sklearn.preprocessing import StandardScaler\n",
    "N_COMP = 30\n",
    "\n",
    "scaler = StandardScaler()\n",
    "x_train_red = scaler.fit_transform(x_train)\n",
    "scaled_data = scaler.fit_transform(x_1h_df)\n",
    "pca = decomposition.PCA(n_components=N_COMP)\n",
    "xps_train = pca.fit_transform(scaled_data)\n",
    "xps_train"
   ]
  },
  {
   "cell_type": "markdown",
   "metadata": {},
   "source": [
    "Proposez un graphique qui représente les 2 premières dimensions de la PCA et commentez succinctement."
   ]
  },
  {
   "cell_type": "markdown",
   "metadata": {},
   "source": [
    "<span style=\"color:red\">\n",
    "    Répondre ci-dessous\n",
    "</span>"
   ]
  },
  {
   "cell_type": "code",
   "execution_count": 37,
   "metadata": {},
   "outputs": [
    {
     "data": {
      "text/plain": [
       "Text(0, 0.5, 'Second principle component')"
      ]
     },
     "execution_count": 37,
     "metadata": {},
     "output_type": "execute_result"
    },
    {
     "data": {
      "image/png": "[encoded data removed]",
      "text/plain": [
       "<Figure size 1200x800 with 1 Axes>"
      ]
     },
     "metadata": {},
     "output_type": "display_data"
    }
   ],
   "source": [
    "# TODO: Plot\n",
    "plt.figure(figsize=(12,8))\n",
    "plt.scatter(xps_train[:,0],xps_train[:,1],ys)\n",
    "plt.xlabel('First principle component')\n",
    "plt.ylabel('Second principle component')"
   ]
  },
  {
   "cell_type": "markdown",
   "metadata": {},
   "source": [
    "<span style=\"color:red\">\n",
    "    Utiliser des cellules markdown pour ajouter des commentaires\n",
    "</span>"
   ]
  },
  {
   "attachments": {},
   "cell_type": "markdown",
   "metadata": {},
   "source": [
    "Ici les classes sont séparées dans le graphe, cela signifie que les variables utilisées dans la PCA sont potentiellement utiles pour discriminer les différentes classes de la variable cible. Cela peut être une indication que le modèle de classification entraîné sur ces variables peut être performant. "
   ]
  },
  {
   "cell_type": "markdown",
   "metadata": {},
   "source": [
    "## 5. Modèles de classification\n",
    "\n",
    "Entrainez le modèle"
   ]
  },
  {
   "cell_type": "markdown",
   "metadata": {},
   "source": [
    "### Baseline\n",
    "\n",
    "`LogisticRegression` or `RandomForestClassifier`"
   ]
  },
  {
   "cell_type": "code",
   "execution_count": 38,
   "metadata": {},
   "outputs": [],
   "source": [
    "SCORINGS = \"balanced_accuracy\""
   ]
  },
  {
   "cell_type": "markdown",
   "metadata": {},
   "source": [
    "<span style=\"color:red\">\n",
    "    Répondre ci-dessous\n",
    "</span>"
   ]
  },
  {
   "attachments": {},
   "cell_type": "markdown",
   "metadata": {},
   "source": [
    "Comme les classes se chevauchent beaucoup, un modèle de classification qui peut gérer des frontières de décision non linéaires serait plus approprié. Les modèles de classification non linéaires tels que les forêts aléatoires, les SVM sont de bonnes options."
   ]
  },
  {
   "cell_type": "code",
   "execution_count": 39,
   "metadata": {},
   "outputs": [],
   "source": [
    "# model = ensemble.RandomForestClassifier(n_estimators=10)\n",
    "\n",
    "# TODO: Try other models\n",
    "\n",
    "# model.fit(x_train, y_train)  # training"
   ]
  },
  {
   "cell_type": "code",
   "execution_count": 40,
   "metadata": {},
   "outputs": [
    {
     "data": {
      "text/html": [
       "<style>#sk-container-id-1 {color: black;background-color: white;}#sk-container-id-1 pre{padding: 0;}#sk-container-id-1 div.sk-toggleable {background-color: white;}#sk-container-id-1 label.sk-toggleable__label {cursor: pointer;display: block;width: 100%;margin-bottom: 0;padding: 0.3em;box-sizing: border-box;text-align: center;}#sk-container-id-1 label.sk-toggleable__label-arrow:before {content: \"▸\";float: left;margin-right: 0.25em;color: #696969;}#sk-container-id-1 label.sk-toggleable__label-arrow:hover:before {color: black;}#sk-container-id-1 div.sk-estimator:hover label.sk-toggleable__label-arrow:before {color: black;}#sk-container-id-1 div.sk-toggleable__content {max-height: 0;max-width: 0;overflow: hidden;text-align: left;background-color: #f0f8ff;}#sk-container-id-1 div.sk-toggleable__content pre {margin: 0.2em;color: black;border-radius: 0.25em;background-color: #f0f8ff;}#sk-container-id-1 input.sk-toggleable__control:checked~div.sk-toggleable__content {max-height: 200px;max-width: 100%;overflow: auto;}#sk-container-id-1 input.sk-toggleable__control:checked~label.sk-toggleable__label-arrow:before {content: \"▾\";}#sk-container-id-1 div.sk-estimator input.sk-toggleable__control:checked~label.sk-toggleable__label {background-color: #d4ebff;}#sk-container-id-1 div.sk-label input.sk-toggleable__control:checked~label.sk-toggleable__label {background-color: #d4ebff;}#sk-container-id-1 input.sk-hidden--visually {border: 0;clip: rect(1px 1px 1px 1px);clip: rect(1px, 1px, 1px, 1px);height: 1px;margin: -1px;overflow: hidden;padding: 0;position: absolute;width: 1px;}#sk-container-id-1 div.sk-estimator {font-family: monospace;background-color: #f0f8ff;border: 1px dotted black;border-radius: 0.25em;box-sizing: border-box;margin-bottom: 0.5em;}#sk-container-id-1 div.sk-estimator:hover {background-color: #d4ebff;}#sk-container-id-1 div.sk-parallel-item::after {content: \"\";width: 100%;border-bottom: 1px solid gray;flex-grow: 1;}#sk-container-id-1 div.sk-label:hover label.sk-toggleable__label {background-color: #d4ebff;}#sk-container-id-1 div.sk-serial::before {content: \"\";position: absolute;border-left: 1px solid gray;box-sizing: border-box;top: 0;bottom: 0;left: 50%;z-index: 0;}#sk-container-id-1 div.sk-serial {display: flex;flex-direction: column;align-items: center;background-color: white;padding-right: 0.2em;padding-left: 0.2em;position: relative;}#sk-container-id-1 div.sk-item {position: relative;z-index: 1;}#sk-container-id-1 div.sk-parallel {display: flex;align-items: stretch;justify-content: center;background-color: white;position: relative;}#sk-container-id-1 div.sk-item::before, #sk-container-id-1 div.sk-parallel-item::before {content: \"\";position: absolute;border-left: 1px solid gray;box-sizing: border-box;top: 0;bottom: 0;left: 50%;z-index: -1;}#sk-container-id-1 div.sk-parallel-item {display: flex;flex-direction: column;z-index: 1;position: relative;background-color: white;}#sk-container-id-1 div.sk-parallel-item:first-child::after {align-self: flex-end;width: 50%;}#sk-container-id-1 div.sk-parallel-item:last-child::after {align-self: flex-start;width: 50%;}#sk-container-id-1 div.sk-parallel-item:only-child::after {width: 0;}#sk-container-id-1 div.sk-dashed-wrapped {border: 1px dashed gray;margin: 0 0.4em 0.5em 0.4em;box-sizing: border-box;padding-bottom: 0.4em;background-color: white;}#sk-container-id-1 div.sk-label label {font-family: monospace;font-weight: bold;display: inline-block;line-height: 1.2em;}#sk-container-id-1 div.sk-label-container {text-align: center;}#sk-container-id-1 div.sk-container {/* jupyter's `normalize.less` sets `[hidden] { display: none; }` but bootstrap.min.css set `[hidden] { display: none !important; }` so we also need the `!important` here to be able to override the default hidden behavior on the sphinx rendered scikit-learn.org. See: https://github.com/scikit-learn/scikit-learn/issues/21755 */display: inline-block !important;position: relative;}#sk-container-id-1 div.sk-text-repr-fallback {display: none;}</style><div id=\"sk-container-id-1\" class=\"sk-top-container\"><div class=\"sk-text-repr-fallback\"><pre>DecisionTreeClassifier()</pre><b>In a Jupyter environment, please rerun this cell to show the HTML representation or trust the notebook. <br />On GitHub, the HTML representation is unable to render, please try loading this page with nbviewer.org.</b></div><div class=\"sk-container\" hidden><div class=\"sk-item\"><div class=\"sk-estimator sk-toggleable\"><input class=\"sk-toggleable__control sk-hidden--visually\" id=\"sk-estimator-id-1\" type=\"checkbox\" checked><label for=\"sk-estimator-id-1\" class=\"sk-toggleable__label sk-toggleable__label-arrow\">DecisionTreeClassifier</label><div class=\"sk-toggleable__content\"><pre>DecisionTreeClassifier()</pre></div></div></div></div></div>"
      ],
      "text/plain": [
       "DecisionTreeClassifier()"
      ]
     },
     "execution_count": 40,
     "metadata": {},
     "output_type": "execute_result"
    }
   ],
   "source": [
    "from sklearn.naive_bayes import GaussianNB\n",
    "from sklearn.tree import DecisionTreeClassifier\n",
    "from sklearn.neighbors import KNeighborsClassifier\n",
    "\n",
    "#model = linear_model.LogisticRegression(max_iter=100)\n",
    "#model = ensemble.RandomForestClassifier(n_estimators=10)\n",
    "#model = GaussianNB()\n",
    "model = DecisionTreeClassifier()\n",
    "#model = KNeighborsClassifier()\n",
    "\n",
    "model.fit(x_train, y_train)  # training"
   ]
  },
  {
   "cell_type": "markdown",
   "metadata": {},
   "source": [
    "## 6. Évaluations"
   ]
  },
  {
   "cell_type": "code",
   "execution_count": 41,
   "metadata": {},
   "outputs": [
    {
     "name": "stdout",
     "output_type": "stream",
     "text": [
      "Balanced accuracy score: 0.532\n"
     ]
    }
   ],
   "source": [
    "y_pred = model.predict(x_valid)  # predictions\n",
    "\n",
    "score = metrics.balanced_accuracy_score(y_valid, y_pred)  # scoring\n",
    "\n",
    "print(f\"Balanced accuracy score: {score:.3g}\")"
   ]
  },
  {
   "cell_type": "markdown",
   "metadata": {},
   "source": [
    "### Code : Validation croisée\n",
    "\n",
    "Le code ci-dessus utilise une méthode simple (*hold out*) pour mesurer le score de validation. Utilisez la validation croisée (pour obtenir une estimation plus fiable) combinée à l'exploration des hyperparamètres (pour améliorer les résultats).\n",
    "\n",
    "Vous pouvez changer la valeur du nombre de validation croisée (CV) selon la valeur de l'erreur et le temps d'entrainement des modèles (compromis)."
   ]
  },
  {
   "cell_type": "code",
   "execution_count": 42,
   "metadata": {
    "tags": []
   },
   "outputs": [],
   "source": [
    "CV = 5"
   ]
  },
  {
   "cell_type": "markdown",
   "metadata": {},
   "source": [
    "<span style=\"color:red\">\n",
    "    Répondre ci-dessous\n",
    "</span>"
   ]
  },
  {
   "cell_type": "code",
   "execution_count": 43,
   "metadata": {},
   "outputs": [
    {
     "data": {
      "text/plain": [
       "array([0.539, 0.528, 0.534, 0.525, 0.531])"
      ]
     },
     "execution_count": 43,
     "metadata": {},
     "output_type": "execute_result"
    }
   ],
   "source": [
    "# TODO: Cross-Validation\n",
    "scores = model_selection.cross_val_score(model, x_1h_df, y=ys, scoring=\"balanced_accuracy\", cv=CV) \n",
    "scores"
   ]
  },
  {
   "cell_type": "markdown",
   "metadata": {
    "tags": []
   },
   "source": [
    "* **Pour 2 des modèles** (au moins 1 autre que les 2 proposés en baselines) :\n",
    "\n",
    "    * Pour différentes valeurs d'un des hyperparamètres, donnez les `balanced_accuracy` moyennes de la validation croisée sous forme de Boxplots (ou de diagramme à bâtons avec une barre d'erreur) : voir l'exemple présenté dans le graphique ci-dessous. \n",
    "    \n",
    "    * Explicitez succinctement quelles observations en tirer concernant la stabilité des prédictions.\n",
    "\n",
    "![](img/boxplot-cv.png)"
   ]
  },
  {
   "cell_type": "markdown",
   "metadata": {},
   "source": [
    "<span style=\"color:red\">\n",
    "    Répondre ci-dessous\n",
    "</span>"
   ]
  },
  {
   "cell_type": "code",
   "execution_count": 44,
   "metadata": {},
   "outputs": [
    {
     "data": {
      "image/png": "[encoded data removed]",
      "text/plain": [
       "<Figure size 1000x1000 with 2 Axes>"
      ]
     },
     "metadata": {},
     "output_type": "display_data"
    }
   ],
   "source": [
    "# TODO: Boxplot ou Barplot\n",
    "x = [i for i in range(len(scores))]\n",
    "plt.rcParams[\"figure.figsize\"] = (10,10)\n",
    "plt.subplot(211)\n",
    "plt.bar(x, scores, yerr =(2*scores.std()))\n",
    "plt.subplot(212)\n",
    "plt.boxplot(scores, vert = False)\n",
    "plt.show()\n",
    "#DecisionTreeClassifier meilleur résultat que LogisticRegression"
   ]
  },
  {
   "cell_type": "code",
   "execution_count": 45,
   "metadata": {},
   "outputs": [
    {
     "data": {
      "image/png": "[encoded data removed]",
      "text/plain": [
       "<Figure size 1000x1000 with 2 Axes>"
      ]
     },
     "metadata": {},
     "output_type": "display_data"
    }
   ],
   "source": [
    "from sklearn import neighbors\n",
    "\n",
    "model2 = neighbors.KNeighborsClassifier(n_neighbors=3)\n",
    "\n",
    "model2.fit(x_train, y_train)  # training\n",
    "\n",
    "y_pred = model2.predict(x_valid)  # predictions\n",
    "\n",
    "scores2= model_selection.cross_val_score(model2, x_1h_df, y=ys, scoring=\"balanced_accuracy\", cv=CV)\n",
    "\n",
    "x = [i for i in range(len(scores2))]\n",
    "plt.rcParams[\"figure.figsize\"] = (10,10)\n",
    "plt.subplot(211)\n",
    "plt.bar(x, scores2, yerr =(2*scores2.std()))\n",
    "plt.subplot(212)\n",
    "plt.boxplot(scores2, vert = False)\n",
    "plt.show()\n",
    "#KNN"
   ]
  },
  {
   "cell_type": "markdown",
   "metadata": {},
   "source": [
    "<span style=\"color:red\">\n",
    "    Utiliser des cellules markdown pour ajouter des commentaires\n",
    "</span>"
   ]
  },
  {
   "attachments": {},
   "cell_type": "markdown",
   "metadata": {},
   "source": [
    "On a choisi comme modèles l'arbre de décision et k plus proches voisins, on a comme balanced accuracy score :\n",
    "* Arbre de décision : 0.533\n",
    "* K plus proche voisins : 0.5037\n",
    "\n",
    "L'arbre de décision est donc le plus adapté "
   ]
  },
  {
   "cell_type": "markdown",
   "metadata": {
    "tags": []
   },
   "source": [
    "* **Pour chacun de ces 2 modèles, à partir des données de validation créées précédemment** (`x_valid`, `y_valid`) :\n",
    "\n",
    "    * Mesurez l'aire sous la courbe ROC (AUC) à l'aide de la fonction de Scikit-Learn (`roc_auc_score`) et comparez les modèles avec leur combinaison respective d'hyperparamètres offrant le meilleur résultat."
   ]
  },
  {
   "cell_type": "markdown",
   "metadata": {},
   "source": [
    "<span style=\"color:red\">\n",
    "    Répondre ci-dessous\n",
    "</span>"
   ]
  },
  {
   "cell_type": "code",
   "execution_count": 46,
   "metadata": {},
   "outputs": [
    {
     "data": {
      "text/plain": [
       "0.5316135179773853"
      ]
     },
     "execution_count": 46,
     "metadata": {},
     "output_type": "execute_result"
    }
   ],
   "source": [
    "# TODO: Confusion Mtx\n",
    "metrics.roc_auc_score(y_valid,model.predict(x_valid)) #DecisionTreeClassifier "
   ]
  },
  {
   "cell_type": "markdown",
   "metadata": {},
   "source": [
    "<span style=\"color:red\">\n",
    "    Utiliser des cellules markdown pour ajouter des commentaires\n",
    "</span>"
   ]
  },
  {
   "attachments": {},
   "cell_type": "markdown",
   "metadata": {},
   "source": [
    "L'air sous la courbe ROC obtenue est de 0.52933210954754. On peut dire qu'il dépasse certaines valeurs d'hyperparamètres mais ce n'est clairement pas le meilleur résultat. (0.539). L'air sous la courbe ROC est aussi à peu près égal au résultat obtenu lors de l'évaluation."
   ]
  },
  {
   "cell_type": "markdown",
   "metadata": {
    "tags": []
   },
   "source": [
    "* **Pour le modèle et sa combinaison d'hyperparamètres offrant le meilleur résultat** :\n",
    "\n",
    "    * Réalisez la matrice de confusion et décrivez-la succinctement."
   ]
  },
  {
   "cell_type": "markdown",
   "metadata": {},
   "source": [
    "<span style=\"color:red\">\n",
    "    Répondre ci-dessous\n",
    "</span>"
   ]
  },
  {
   "cell_type": "code",
   "execution_count": 47,
   "metadata": {},
   "outputs": [
    {
     "data": {
      "text/plain": [
       "<sklearn.metrics._plot.confusion_matrix.ConfusionMatrixDisplay at 0x21584ff4710>"
      ]
     },
     "execution_count": 47,
     "metadata": {},
     "output_type": "execute_result"
    },
    {
     "data": {
      "image/png": "[encoded data removed]",
      "text/plain": [
       "<Figure size 1000x1000 with 2 Axes>"
      ]
     },
     "metadata": {},
     "output_type": "display_data"
    }
   ],
   "source": [
    "# TODO: ROC\n",
    "cm = metrics.confusion_matrix(y_valid,y_pred,labels = model.classes_)\n",
    "disp = metrics.ConfusionMatrixDisplay(confusion_matrix=cm, display_labels=model.classes_)\n",
    "disp.plot() #DecisionTreeClassifier"
   ]
  },
  {
   "cell_type": "markdown",
   "metadata": {},
   "source": [
    "<span style=\"color:red\">\n",
    "    Utiliser des cellules markdown pour ajouter des commentaires\n",
    "</span>"
   ]
  },
  {
   "attachments": {},
   "cell_type": "markdown",
   "metadata": {},
   "source": [
    "On a :\n",
    "* Vrais positifs : 22 257\n",
    "* Faux positifs : 1 743"
   ]
  },
  {
   "cell_type": "markdown",
   "metadata": {},
   "source": [
    "### Code : Essayez d'améliorer votre score\n",
    "\n",
    "* Data augmentation (optionnel)\n",
    "\n",
    "Vu le déséquilibre entre les classes à prédire (survive, died), on peut espérer améliorer le score en les rééquilibrant. Une approche typique est la génération de données (voir cours : `part-6-slides.pdf`). Une des méthodes de génération est [SMOTE](https://en.wikipedia.org/wiki/Oversampling_and_undersampling_in_data_analysis#SMOTE) (voir cours théorique), elle est notamment implémentée dans le module `imblearn`.\n",
    "\n",
    "`imblearn` a été développé pour s'interfacer facilement avec `sklearn`.\n",
    "Il propose notamment une version du `pipeline` qui permet l'intégration avec `sklearn`.\n",
    "\n",
    "Ci-dessous voici un exemple de `pipeline` intégrant `imblearn` et `sklearn`."
   ]
  },
  {
   "cell_type": "markdown",
   "metadata": {},
   "source": [
    "<span style=\"color:red\">\n",
    "    Répondre ci-dessous\n",
    "</span>"
   ]
  },
  {
   "cell_type": "code",
   "execution_count": 48,
   "metadata": {},
   "outputs": [],
   "source": [
    "# TODO: Data augmentation\n",
    "\n",
    "pipe = imblearn.pipeline.Pipeline(\n",
    "    [\n",
    "        (\"scale\", preprocessing.StandardScaler()),\n",
    "        (\"pca\", decomposition.PCA()),\n",
    "        (\"resample\", imblearn.over_sampling.SMOTE()),\n",
    "        (\"model\", model),\n",
    "    ]\n",
    ")"
   ]
  },
  {
   "cell_type": "code",
   "execution_count": 49,
   "metadata": {},
   "outputs": [
    {
     "data": {
      "text/plain": [
       "0.83575"
      ]
     },
     "execution_count": 49,
     "metadata": {},
     "output_type": "execute_result"
    }
   ],
   "source": [
    "pipe.fit(x_train, y_train)\n",
    "pipe.score(x_valid,y_valid)"
   ]
  },
  {
   "cell_type": "markdown",
   "metadata": {},
   "source": [
    "### Explication de ce que vous avez réalisé, conclusion et perspectives"
   ]
  },
  {
   "cell_type": "markdown",
   "metadata": {},
   "source": [
    "* Commencez par donner votre meilleur résultat obtenu lors de vos soumissions\n",
    "\n",
    "* Expliquez le chemin qui vous y a conduit\n",
    "\n",
    "    * Ce que vous avez essayé :\n",
    "\n",
    "        * Ce qui a fonctionné\n",
    "\n",
    "        * Ce qui n'a pas fonctionné et comment vous l'avez solutionné\n",
    "\n",
    "    * Quelle méthode avez-vous utilisée pour choisir les hyperparamètres ?\n",
    "\n",
    "    * Comparer la durée d'entrainement des principaux modèles utilisés ?\n",
    "\n",
    "* Qu'auriez-vous fait si vous aviez eu plus de temps ?"
   ]
  },
  {
   "cell_type": "markdown",
   "metadata": {},
   "source": [
    "<span style=\"color:red\">\n",
    "    Répondre ci-dessous\n",
    "</span>"
   ]
  },
  {
   "attachments": {},
   "cell_type": "markdown",
   "metadata": {},
   "source": [
    "Le meilleur résultat qu'on a obtenu est 0.534 mais notre résultat est 0.532 avec l'arbre de décision\n",
    "\n",
    "On a essayé la SVC et la régression linéaire mais cela n'a pas fonctionné. Et on a du réduire la CV pour réduire le temps d'execution pour notre modèle. On a donc utilisé l'arbre de décision et k plus proche voisins.\n",
    "\n",
    "Certains modèles nous ont pris plusieurs minutes d'execution (4mn pour SVC). Le plus rapide était k plus proches voisins.\n",
    "\n",
    "Si on avait plus de temps on aurait testé plus de modèles étant donné que certains mettaient trop de temps."
   ]
  },
  {
   "cell_type": "markdown",
   "metadata": {},
   "source": [
    "### Question (optionnelle)\n",
    "\n",
    "* Qu'est-ce que le suréchantillonnage ? \n",
    "\n",
    "* En quoi pourrait-il être utile dans ce problème ?"
   ]
  },
  {
   "cell_type": "markdown",
   "metadata": {},
   "source": [
    "<span style=\"color:red\">\n",
    "    Répondre ci-dessous\n",
    "</span>"
   ]
  },
  {
   "cell_type": "markdown",
   "metadata": {},
   "source": []
  },
  {
   "cell_type": "markdown",
   "metadata": {},
   "source": [
    "## 7. Enregistrer les prédictions\n",
    "\n",
    "* Utilisez le code suivant pour faire des prédictions et pour les enregistrer sous forme de fichier ZIP\n",
    "* Soumettez ce fichier ZIP sur [le site du challenge](https://competitions.codalab.org/competitions/30715#participate-submit_results)\n",
    "(\"Participate > Submit/View Results > Submit\")\n",
    "* Faites de votre mieux pour être le ***premier sur le leaderboard !***"
   ]
  },
  {
   "attachments": {},
   "cell_type": "markdown",
   "metadata": {},
   "source": [
    "<span style=\"color:red\">\n",
    "    !! Ne pas oublier de modifier la commande de la prédiction selon les données et modèles choisis !!\n",
    "</span>\n",
    "\n",
    "* Données : `x_test_fact_df`, `x_test_1h_df`\n",
    "\n",
    "* Modèles : `model`, `search` (e.g., pour le `GridSearchCV`)"
   ]
  },
  {
   "cell_type": "code",
   "execution_count": 50,
   "metadata": {},
   "outputs": [
    {
     "name": "stdout",
     "output_type": "stream",
     "text": [
      "The submission is ready: Submissions\\submission_2023-04-26T23-59-10.zip\n"
     ]
    },
    {
     "name": "stderr",
     "output_type": "stream",
     "text": [
      "c:\\Users\\jordy\\AppData\\Local\\Programs\\Python\\Python311\\Lib\\site-packages\\sklearn\\base.py:432: UserWarning: X has feature names, but DecisionTreeClassifier was fitted without feature names\n",
      "  warnings.warn(\n"
     ]
    }
   ],
   "source": [
    "predictions = model.predict(x_test_1h_df)  # compute predictions\n",
    "# VARS: x_test_df, x_test_fact_df, x_test_1h_df, x_test_1h_pcs\n",
    "# Models: model, search\n",
    "\n",
    "\n",
    "PRED_PATH.mkdir(parents=True, exist_ok=True)\n",
    "\n",
    "t_stamp = datetime.now().strftime(\"%Y-%m-%dT%H-%M-%S\")\n",
    "submission_fp = PRED_PATH / f\"submission_{t_stamp}.zip\"\n",
    "\n",
    "pred_fname = \"mimic_synthetic_test.csv\"\n",
    "compr_opts = dict(method=\"zip\", archive_name=pred_fname)\n",
    "\n",
    "pd.Series(predictions).to_csv(\n",
    "    submission_fp, compression=compr_opts, index=False, header=False\n",
    ")\n",
    "\n",
    "print(f\"The submission is ready: {submission_fp}\")"
   ]
  },
  {
   "cell_type": "markdown",
   "metadata": {},
   "source": [
    "---"
   ]
  },
  {
   "cell_type": "markdown",
   "metadata": {},
   "source": [
    "# Remarque sur le jeu de données\n",
    "\n",
    "Le jeu de données ne contient pas de données médicales réelles. Nous ne sommes pas autorisés à partager ces **données confidentielles** provenant de patient·e·s en soins intensifs. Pour éviter ce problème, les données ont été remplacées par des **données artificielles**.\n",
    "\n",
    "Afin d'avoir des données crédibles, elles ont été générées à l'aide d'un réseau adverse génératif (**GAN**) Wasserstein.\n",
    "\n",
    "Pour plus d'informations, voici une référence : <br />\n",
    "[Privacy Preserving Synthetic Health Data](https://hal.inria.fr/hal-02160496/document) <br />\n",
    "Andrew Yale, Saloni Dash, Ritik Dutta, Isabelle Guyon, Adrien Pavao, Kristin Bennett <br />"
   ]
  },
  {
   "cell_type": "markdown",
   "metadata": {},
   "source": [
    "---"
   ]
  }
 ],
 "metadata": {
  "kernelspec": {
   "display_name": "Python 3",
   "language": "python",
   "name": "python3"
  },
  "language_info": {
   "codemirror_mode": {
    "name": "ipython",
    "version": 3
   },
   "file_extension": ".py",
   "mimetype": "text/x-python",
   "name": "python",
   "nbconvert_exporter": "python",
   "pygments_lexer": "ipython3",
   "version": "3.11.2"
  },
  "vscode": {
   "interpreter": {
    "hash": "aee8b7b246df8f9039afb4144a1f6fd8d2ca17a180786b69acc140d282b71a49"
   }
  }
 },
 "nbformat": 4,
 "nbformat_minor": 4
}
